{
 "cells": [
  {
   "attachments": {},
   "cell_type": "markdown",
   "metadata": {},
   "source": [
    "## Librairies"
   ]
  },
  {
   "cell_type": "code",
   "execution_count": 1,
   "metadata": {},
   "outputs": [],
   "source": [
    "import pandas as pd\n",
    "import statsmodels.api as sm\n",
    "from statsmodels.formula.api import ols\n",
    "import plotly.express as px\n",
    "import matplotlib.pyplot as plt\n",
    "import seaborn as sns\n",
    "\n",
    "import scipy.stats as stats\n",
    "from sklearn.preprocessing import OneHotEncoder\n",
    "import statsmodels.api as sm\n",
    "from statsmodels.formula.api import ols\n",
    "from statsmodels.stats.anova import anova_lm\n",
    "from scipy.stats import chi2_contingency\n"
   ]
  },
  {
   "attachments": {},
   "cell_type": "markdown",
   "metadata": {},
   "source": [
    "## Import the data from url"
   ]
  },
  {
   "cell_type": "code",
   "execution_count": 2,
   "metadata": {},
   "outputs": [
    {
     "data": {
      "text/html": [
       "<div>\n",
       "<style scoped>\n",
       "    .dataframe tbody tr th:only-of-type {\n",
       "        vertical-align: middle;\n",
       "    }\n",
       "\n",
       "    .dataframe tbody tr th {\n",
       "        vertical-align: top;\n",
       "    }\n",
       "\n",
       "    .dataframe thead th {\n",
       "        text-align: right;\n",
       "    }\n",
       "</style>\n",
       "<table border=\"1\" class=\"dataframe\">\n",
       "  <thead>\n",
       "    <tr style=\"text-align: right;\">\n",
       "      <th></th>\n",
       "      <th>id</th>\n",
       "      <th>Satisfaction</th>\n",
       "      <th>Gender</th>\n",
       "      <th>Customer Type</th>\n",
       "      <th>Age</th>\n",
       "      <th>Type of Travel</th>\n",
       "      <th>Class</th>\n",
       "      <th>Flight Distance</th>\n",
       "      <th>Seat comfort</th>\n",
       "      <th>Departure/Arrival time convenient</th>\n",
       "      <th>...</th>\n",
       "      <th>Online support</th>\n",
       "      <th>Ease of Online booking</th>\n",
       "      <th>On-board service</th>\n",
       "      <th>Leg room service</th>\n",
       "      <th>Baggage handling</th>\n",
       "      <th>Checkin service</th>\n",
       "      <th>Cleanliness</th>\n",
       "      <th>Online boarding</th>\n",
       "      <th>Departure Delay in Minutes</th>\n",
       "      <th>Arrival Delay in Minutes</th>\n",
       "    </tr>\n",
       "  </thead>\n",
       "  <tbody>\n",
       "    <tr>\n",
       "      <th>0</th>\n",
       "      <td>11112</td>\n",
       "      <td>satisfied</td>\n",
       "      <td>Female</td>\n",
       "      <td>Loyal Customer</td>\n",
       "      <td>65</td>\n",
       "      <td>Personal Travel</td>\n",
       "      <td>Eco</td>\n",
       "      <td>265</td>\n",
       "      <td>0</td>\n",
       "      <td>0</td>\n",
       "      <td>...</td>\n",
       "      <td>2</td>\n",
       "      <td>3</td>\n",
       "      <td>3</td>\n",
       "      <td>0</td>\n",
       "      <td>3</td>\n",
       "      <td>5</td>\n",
       "      <td>3</td>\n",
       "      <td>2</td>\n",
       "      <td>0</td>\n",
       "      <td>0.0</td>\n",
       "    </tr>\n",
       "    <tr>\n",
       "      <th>1</th>\n",
       "      <td>110278</td>\n",
       "      <td>satisfied</td>\n",
       "      <td>Male</td>\n",
       "      <td>Loyal Customer</td>\n",
       "      <td>47</td>\n",
       "      <td>Personal Travel</td>\n",
       "      <td>Business</td>\n",
       "      <td>2464</td>\n",
       "      <td>0</td>\n",
       "      <td>0</td>\n",
       "      <td>...</td>\n",
       "      <td>2</td>\n",
       "      <td>3</td>\n",
       "      <td>4</td>\n",
       "      <td>4</td>\n",
       "      <td>4</td>\n",
       "      <td>2</td>\n",
       "      <td>3</td>\n",
       "      <td>2</td>\n",
       "      <td>310</td>\n",
       "      <td>305.0</td>\n",
       "    </tr>\n",
       "    <tr>\n",
       "      <th>2</th>\n",
       "      <td>103199</td>\n",
       "      <td>satisfied</td>\n",
       "      <td>Female</td>\n",
       "      <td>Loyal Customer</td>\n",
       "      <td>15</td>\n",
       "      <td>Personal Travel</td>\n",
       "      <td>Eco</td>\n",
       "      <td>2138</td>\n",
       "      <td>0</td>\n",
       "      <td>0</td>\n",
       "      <td>...</td>\n",
       "      <td>2</td>\n",
       "      <td>2</td>\n",
       "      <td>3</td>\n",
       "      <td>3</td>\n",
       "      <td>4</td>\n",
       "      <td>4</td>\n",
       "      <td>4</td>\n",
       "      <td>2</td>\n",
       "      <td>0</td>\n",
       "      <td>0.0</td>\n",
       "    </tr>\n",
       "    <tr>\n",
       "      <th>3</th>\n",
       "      <td>47462</td>\n",
       "      <td>satisfied</td>\n",
       "      <td>Female</td>\n",
       "      <td>Loyal Customer</td>\n",
       "      <td>60</td>\n",
       "      <td>Personal Travel</td>\n",
       "      <td>Eco</td>\n",
       "      <td>623</td>\n",
       "      <td>0</td>\n",
       "      <td>0</td>\n",
       "      <td>...</td>\n",
       "      <td>3</td>\n",
       "      <td>1</td>\n",
       "      <td>1</td>\n",
       "      <td>0</td>\n",
       "      <td>1</td>\n",
       "      <td>4</td>\n",
       "      <td>1</td>\n",
       "      <td>3</td>\n",
       "      <td>0</td>\n",
       "      <td>0.0</td>\n",
       "    </tr>\n",
       "    <tr>\n",
       "      <th>4</th>\n",
       "      <td>120011</td>\n",
       "      <td>satisfied</td>\n",
       "      <td>Female</td>\n",
       "      <td>Loyal Customer</td>\n",
       "      <td>70</td>\n",
       "      <td>Personal Travel</td>\n",
       "      <td>Eco</td>\n",
       "      <td>354</td>\n",
       "      <td>0</td>\n",
       "      <td>0</td>\n",
       "      <td>...</td>\n",
       "      <td>4</td>\n",
       "      <td>2</td>\n",
       "      <td>2</td>\n",
       "      <td>0</td>\n",
       "      <td>2</td>\n",
       "      <td>4</td>\n",
       "      <td>2</td>\n",
       "      <td>5</td>\n",
       "      <td>0</td>\n",
       "      <td>0.0</td>\n",
       "    </tr>\n",
       "  </tbody>\n",
       "</table>\n",
       "<p>5 rows × 24 columns</p>\n",
       "</div>"
      ],
      "text/plain": [
       "       id Satisfaction  Gender   Customer Type  Age   Type of Travel  \\\n",
       "0   11112    satisfied  Female  Loyal Customer   65  Personal Travel   \n",
       "1  110278    satisfied    Male  Loyal Customer   47  Personal Travel   \n",
       "2  103199    satisfied  Female  Loyal Customer   15  Personal Travel   \n",
       "3   47462    satisfied  Female  Loyal Customer   60  Personal Travel   \n",
       "4  120011    satisfied  Female  Loyal Customer   70  Personal Travel   \n",
       "\n",
       "      Class  Flight Distance  Seat comfort  Departure/Arrival time convenient  \\\n",
       "0       Eco              265             0                                  0   \n",
       "1  Business             2464             0                                  0   \n",
       "2       Eco             2138             0                                  0   \n",
       "3       Eco              623             0                                  0   \n",
       "4       Eco              354             0                                  0   \n",
       "\n",
       "   ...  Online support  Ease of Online booking  On-board service  \\\n",
       "0  ...               2                       3                 3   \n",
       "1  ...               2                       3                 4   \n",
       "2  ...               2                       2                 3   \n",
       "3  ...               3                       1                 1   \n",
       "4  ...               4                       2                 2   \n",
       "\n",
       "   Leg room service  Baggage handling  Checkin service  Cleanliness  \\\n",
       "0                 0                 3                5            3   \n",
       "1                 4                 4                2            3   \n",
       "2                 3                 4                4            4   \n",
       "3                 0                 1                4            1   \n",
       "4                 0                 2                4            2   \n",
       "\n",
       "   Online boarding  Departure Delay in Minutes  Arrival Delay in Minutes  \n",
       "0                2                           0                       0.0  \n",
       "1                2                         310                     305.0  \n",
       "2                2                           0                       0.0  \n",
       "3                3                           0                       0.0  \n",
       "4                5                           0                       0.0  \n",
       "\n",
       "[5 rows x 24 columns]"
      ]
     },
     "execution_count": 2,
     "metadata": {},
     "output_type": "execute_result"
    }
   ],
   "source": [
    "url = 'https://raw.githubusercontent.com/remijul/dataset/master/Airline%20Passenger%20Satisfaction.csv'\n",
    "df = pd.read_csv(url, sep=';')\n",
    "\n",
    "df.head()"
   ]
  },
  {
   "cell_type": "code",
   "execution_count": 3,
   "metadata": {},
   "outputs": [
    {
     "data": {
      "text/plain": [
       "(129880, 24)"
      ]
     },
     "execution_count": 3,
     "metadata": {},
     "output_type": "execute_result"
    }
   ],
   "source": [
    "df.shape"
   ]
  },
  {
   "cell_type": "code",
   "execution_count": 4,
   "metadata": {},
   "outputs": [
    {
     "data": {
      "text/html": [
       "<div>\n",
       "<style scoped>\n",
       "    .dataframe tbody tr th:only-of-type {\n",
       "        vertical-align: middle;\n",
       "    }\n",
       "\n",
       "    .dataframe tbody tr th {\n",
       "        vertical-align: top;\n",
       "    }\n",
       "\n",
       "    .dataframe thead th {\n",
       "        text-align: right;\n",
       "    }\n",
       "</style>\n",
       "<table border=\"1\" class=\"dataframe\">\n",
       "  <thead>\n",
       "    <tr style=\"text-align: right;\">\n",
       "      <th></th>\n",
       "      <th>id</th>\n",
       "      <th>Age</th>\n",
       "      <th>Flight Distance</th>\n",
       "      <th>Seat comfort</th>\n",
       "      <th>Departure/Arrival time convenient</th>\n",
       "      <th>Food and drink</th>\n",
       "      <th>Gate location</th>\n",
       "      <th>Inflight wifi service</th>\n",
       "      <th>Inflight entertainment</th>\n",
       "      <th>Online support</th>\n",
       "      <th>Ease of Online booking</th>\n",
       "      <th>On-board service</th>\n",
       "      <th>Leg room service</th>\n",
       "      <th>Baggage handling</th>\n",
       "      <th>Checkin service</th>\n",
       "      <th>Cleanliness</th>\n",
       "      <th>Online boarding</th>\n",
       "      <th>Departure Delay in Minutes</th>\n",
       "      <th>Arrival Delay in Minutes</th>\n",
       "    </tr>\n",
       "  </thead>\n",
       "  <tbody>\n",
       "    <tr>\n",
       "      <th>count</th>\n",
       "      <td>129880.000000</td>\n",
       "      <td>129880.000000</td>\n",
       "      <td>129880.000000</td>\n",
       "      <td>129880.000000</td>\n",
       "      <td>129880.000000</td>\n",
       "      <td>129880.000000</td>\n",
       "      <td>129880.000000</td>\n",
       "      <td>129880.000000</td>\n",
       "      <td>129880.000000</td>\n",
       "      <td>129880.000000</td>\n",
       "      <td>129880.000000</td>\n",
       "      <td>129880.000000</td>\n",
       "      <td>129880.000000</td>\n",
       "      <td>129880.000000</td>\n",
       "      <td>129880.000000</td>\n",
       "      <td>129880.000000</td>\n",
       "      <td>129880.000000</td>\n",
       "      <td>129880.000000</td>\n",
       "      <td>129487.000000</td>\n",
       "    </tr>\n",
       "    <tr>\n",
       "      <th>mean</th>\n",
       "      <td>64940.500000</td>\n",
       "      <td>39.427957</td>\n",
       "      <td>1981.409055</td>\n",
       "      <td>2.838597</td>\n",
       "      <td>2.990645</td>\n",
       "      <td>2.851994</td>\n",
       "      <td>2.990422</td>\n",
       "      <td>3.249130</td>\n",
       "      <td>3.383477</td>\n",
       "      <td>3.519703</td>\n",
       "      <td>3.472105</td>\n",
       "      <td>3.465075</td>\n",
       "      <td>3.485902</td>\n",
       "      <td>3.695673</td>\n",
       "      <td>3.340807</td>\n",
       "      <td>3.705759</td>\n",
       "      <td>3.352587</td>\n",
       "      <td>14.713713</td>\n",
       "      <td>15.091129</td>\n",
       "    </tr>\n",
       "    <tr>\n",
       "      <th>std</th>\n",
       "      <td>37493.270818</td>\n",
       "      <td>15.119360</td>\n",
       "      <td>1027.115606</td>\n",
       "      <td>1.392983</td>\n",
       "      <td>1.527224</td>\n",
       "      <td>1.443729</td>\n",
       "      <td>1.305970</td>\n",
       "      <td>1.318818</td>\n",
       "      <td>1.346059</td>\n",
       "      <td>1.306511</td>\n",
       "      <td>1.305560</td>\n",
       "      <td>1.270836</td>\n",
       "      <td>1.292226</td>\n",
       "      <td>1.156483</td>\n",
       "      <td>1.260582</td>\n",
       "      <td>1.151774</td>\n",
       "      <td>1.298715</td>\n",
       "      <td>38.071126</td>\n",
       "      <td>38.465650</td>\n",
       "    </tr>\n",
       "    <tr>\n",
       "      <th>min</th>\n",
       "      <td>1.000000</td>\n",
       "      <td>7.000000</td>\n",
       "      <td>50.000000</td>\n",
       "      <td>0.000000</td>\n",
       "      <td>0.000000</td>\n",
       "      <td>0.000000</td>\n",
       "      <td>0.000000</td>\n",
       "      <td>0.000000</td>\n",
       "      <td>0.000000</td>\n",
       "      <td>0.000000</td>\n",
       "      <td>0.000000</td>\n",
       "      <td>0.000000</td>\n",
       "      <td>0.000000</td>\n",
       "      <td>1.000000</td>\n",
       "      <td>0.000000</td>\n",
       "      <td>0.000000</td>\n",
       "      <td>0.000000</td>\n",
       "      <td>0.000000</td>\n",
       "      <td>0.000000</td>\n",
       "    </tr>\n",
       "    <tr>\n",
       "      <th>25%</th>\n",
       "      <td>32470.750000</td>\n",
       "      <td>27.000000</td>\n",
       "      <td>1359.000000</td>\n",
       "      <td>2.000000</td>\n",
       "      <td>2.000000</td>\n",
       "      <td>2.000000</td>\n",
       "      <td>2.000000</td>\n",
       "      <td>2.000000</td>\n",
       "      <td>2.000000</td>\n",
       "      <td>3.000000</td>\n",
       "      <td>2.000000</td>\n",
       "      <td>3.000000</td>\n",
       "      <td>2.000000</td>\n",
       "      <td>3.000000</td>\n",
       "      <td>3.000000</td>\n",
       "      <td>3.000000</td>\n",
       "      <td>2.000000</td>\n",
       "      <td>0.000000</td>\n",
       "      <td>0.000000</td>\n",
       "    </tr>\n",
       "    <tr>\n",
       "      <th>50%</th>\n",
       "      <td>64940.500000</td>\n",
       "      <td>40.000000</td>\n",
       "      <td>1925.000000</td>\n",
       "      <td>3.000000</td>\n",
       "      <td>3.000000</td>\n",
       "      <td>3.000000</td>\n",
       "      <td>3.000000</td>\n",
       "      <td>3.000000</td>\n",
       "      <td>4.000000</td>\n",
       "      <td>4.000000</td>\n",
       "      <td>4.000000</td>\n",
       "      <td>4.000000</td>\n",
       "      <td>4.000000</td>\n",
       "      <td>4.000000</td>\n",
       "      <td>3.000000</td>\n",
       "      <td>4.000000</td>\n",
       "      <td>4.000000</td>\n",
       "      <td>0.000000</td>\n",
       "      <td>0.000000</td>\n",
       "    </tr>\n",
       "    <tr>\n",
       "      <th>75%</th>\n",
       "      <td>97410.250000</td>\n",
       "      <td>51.000000</td>\n",
       "      <td>2544.000000</td>\n",
       "      <td>4.000000</td>\n",
       "      <td>4.000000</td>\n",
       "      <td>4.000000</td>\n",
       "      <td>4.000000</td>\n",
       "      <td>4.000000</td>\n",
       "      <td>4.000000</td>\n",
       "      <td>5.000000</td>\n",
       "      <td>5.000000</td>\n",
       "      <td>4.000000</td>\n",
       "      <td>5.000000</td>\n",
       "      <td>5.000000</td>\n",
       "      <td>4.000000</td>\n",
       "      <td>5.000000</td>\n",
       "      <td>4.000000</td>\n",
       "      <td>12.000000</td>\n",
       "      <td>13.000000</td>\n",
       "    </tr>\n",
       "    <tr>\n",
       "      <th>max</th>\n",
       "      <td>129880.000000</td>\n",
       "      <td>85.000000</td>\n",
       "      <td>6951.000000</td>\n",
       "      <td>5.000000</td>\n",
       "      <td>5.000000</td>\n",
       "      <td>5.000000</td>\n",
       "      <td>5.000000</td>\n",
       "      <td>5.000000</td>\n",
       "      <td>5.000000</td>\n",
       "      <td>5.000000</td>\n",
       "      <td>5.000000</td>\n",
       "      <td>5.000000</td>\n",
       "      <td>5.000000</td>\n",
       "      <td>5.000000</td>\n",
       "      <td>5.000000</td>\n",
       "      <td>5.000000</td>\n",
       "      <td>5.000000</td>\n",
       "      <td>1592.000000</td>\n",
       "      <td>1584.000000</td>\n",
       "    </tr>\n",
       "  </tbody>\n",
       "</table>\n",
       "</div>"
      ],
      "text/plain": [
       "                  id            Age  Flight Distance   Seat comfort  \\\n",
       "count  129880.000000  129880.000000    129880.000000  129880.000000   \n",
       "mean    64940.500000      39.427957      1981.409055       2.838597   \n",
       "std     37493.270818      15.119360      1027.115606       1.392983   \n",
       "min         1.000000       7.000000        50.000000       0.000000   \n",
       "25%     32470.750000      27.000000      1359.000000       2.000000   \n",
       "50%     64940.500000      40.000000      1925.000000       3.000000   \n",
       "75%     97410.250000      51.000000      2544.000000       4.000000   \n",
       "max    129880.000000      85.000000      6951.000000       5.000000   \n",
       "\n",
       "       Departure/Arrival time convenient  Food and drink  Gate location  \\\n",
       "count                      129880.000000   129880.000000  129880.000000   \n",
       "mean                            2.990645        2.851994       2.990422   \n",
       "std                             1.527224        1.443729       1.305970   \n",
       "min                             0.000000        0.000000       0.000000   \n",
       "25%                             2.000000        2.000000       2.000000   \n",
       "50%                             3.000000        3.000000       3.000000   \n",
       "75%                             4.000000        4.000000       4.000000   \n",
       "max                             5.000000        5.000000       5.000000   \n",
       "\n",
       "       Inflight wifi service  Inflight entertainment  Online support  \\\n",
       "count          129880.000000           129880.000000   129880.000000   \n",
       "mean                3.249130                3.383477        3.519703   \n",
       "std                 1.318818                1.346059        1.306511   \n",
       "min                 0.000000                0.000000        0.000000   \n",
       "25%                 2.000000                2.000000        3.000000   \n",
       "50%                 3.000000                4.000000        4.000000   \n",
       "75%                 4.000000                4.000000        5.000000   \n",
       "max                 5.000000                5.000000        5.000000   \n",
       "\n",
       "       Ease of Online booking  On-board service  Leg room service  \\\n",
       "count           129880.000000     129880.000000     129880.000000   \n",
       "mean                 3.472105          3.465075          3.485902   \n",
       "std                  1.305560          1.270836          1.292226   \n",
       "min                  0.000000          0.000000          0.000000   \n",
       "25%                  2.000000          3.000000          2.000000   \n",
       "50%                  4.000000          4.000000          4.000000   \n",
       "75%                  5.000000          4.000000          5.000000   \n",
       "max                  5.000000          5.000000          5.000000   \n",
       "\n",
       "       Baggage handling  Checkin service    Cleanliness  Online boarding  \\\n",
       "count     129880.000000    129880.000000  129880.000000    129880.000000   \n",
       "mean           3.695673         3.340807       3.705759         3.352587   \n",
       "std            1.156483         1.260582       1.151774         1.298715   \n",
       "min            1.000000         0.000000       0.000000         0.000000   \n",
       "25%            3.000000         3.000000       3.000000         2.000000   \n",
       "50%            4.000000         3.000000       4.000000         4.000000   \n",
       "75%            5.000000         4.000000       5.000000         4.000000   \n",
       "max            5.000000         5.000000       5.000000         5.000000   \n",
       "\n",
       "       Departure Delay in Minutes  Arrival Delay in Minutes  \n",
       "count               129880.000000             129487.000000  \n",
       "mean                    14.713713                 15.091129  \n",
       "std                     38.071126                 38.465650  \n",
       "min                      0.000000                  0.000000  \n",
       "25%                      0.000000                  0.000000  \n",
       "50%                      0.000000                  0.000000  \n",
       "75%                     12.000000                 13.000000  \n",
       "max                   1592.000000               1584.000000  "
      ]
     },
     "execution_count": 4,
     "metadata": {},
     "output_type": "execute_result"
    }
   ],
   "source": [
    "df.describe(include='all')\n",
    "df.describe(exclude=[object]) "
   ]
  },
  {
   "cell_type": "code",
   "execution_count": 5,
   "metadata": {},
   "outputs": [
    {
     "name": "stdout",
     "output_type": "stream",
     "text": [
      "<class 'pandas.core.frame.DataFrame'>\n",
      "RangeIndex: 129880 entries, 0 to 129879\n",
      "Data columns (total 24 columns):\n",
      " #   Column                             Non-Null Count   Dtype  \n",
      "---  ------                             --------------   -----  \n",
      " 0   id                                 129880 non-null  int64  \n",
      " 1   Satisfaction                       129880 non-null  object \n",
      " 2   Gender                             129880 non-null  object \n",
      " 3   Customer Type                      129880 non-null  object \n",
      " 4   Age                                129880 non-null  int64  \n",
      " 5   Type of Travel                     129880 non-null  object \n",
      " 6   Class                              129880 non-null  object \n",
      " 7   Flight Distance                    129880 non-null  int64  \n",
      " 8   Seat comfort                       129880 non-null  int64  \n",
      " 9   Departure/Arrival time convenient  129880 non-null  int64  \n",
      " 10  Food and drink                     129880 non-null  int64  \n",
      " 11  Gate location                      129880 non-null  int64  \n",
      " 12  Inflight wifi service              129880 non-null  int64  \n",
      " 13  Inflight entertainment             129880 non-null  int64  \n",
      " 14  Online support                     129880 non-null  int64  \n",
      " 15  Ease of Online booking             129880 non-null  int64  \n",
      " 16  On-board service                   129880 non-null  int64  \n",
      " 17  Leg room service                   129880 non-null  int64  \n",
      " 18  Baggage handling                   129880 non-null  int64  \n",
      " 19  Checkin service                    129880 non-null  int64  \n",
      " 20  Cleanliness                        129880 non-null  int64  \n",
      " 21  Online boarding                    129880 non-null  int64  \n",
      " 22  Departure Delay in Minutes         129880 non-null  int64  \n",
      " 23  Arrival Delay in Minutes           129487 non-null  float64\n",
      "dtypes: float64(1), int64(18), object(5)\n",
      "memory usage: 23.8+ MB\n"
     ]
    }
   ],
   "source": [
    "df.info()"
   ]
  },
  {
   "cell_type": "code",
   "execution_count": 6,
   "metadata": {},
   "outputs": [
    {
     "data": {
      "text/plain": [
       "id                                     0\n",
       "Satisfaction                           0\n",
       "Gender                                 0\n",
       "Customer Type                          0\n",
       "Age                                    0\n",
       "Type of Travel                         0\n",
       "Class                                  0\n",
       "Flight Distance                        0\n",
       "Seat comfort                           0\n",
       "Departure/Arrival time convenient      0\n",
       "Food and drink                         0\n",
       "Gate location                          0\n",
       "Inflight wifi service                  0\n",
       "Inflight entertainment                 0\n",
       "Online support                         0\n",
       "Ease of Online booking                 0\n",
       "On-board service                       0\n",
       "Leg room service                       0\n",
       "Baggage handling                       0\n",
       "Checkin service                        0\n",
       "Cleanliness                            0\n",
       "Online boarding                        0\n",
       "Departure Delay in Minutes             0\n",
       "Arrival Delay in Minutes             393\n",
       "dtype: int64"
      ]
     },
     "execution_count": 6,
     "metadata": {},
     "output_type": "execute_result"
    }
   ],
   "source": [
    "df.isna().sum()"
   ]
  },
  {
   "attachments": {},
   "cell_type": "markdown",
   "metadata": {},
   "source": [
    "## Prepare/cleaning the dataset"
   ]
  },
  {
   "cell_type": "code",
   "execution_count": 7,
   "metadata": {},
   "outputs": [
    {
     "data": {
      "text/plain": [
       "(129487, 24)"
      ]
     },
     "execution_count": 7,
     "metadata": {},
     "output_type": "execute_result"
    }
   ],
   "source": [
    "df.dropna(inplace = True) \n",
    "df.shape"
   ]
  },
  {
   "attachments": {},
   "cell_type": "markdown",
   "metadata": {},
   "source": [
    "# Data analysis"
   ]
  },
  {
   "attachments": {},
   "cell_type": "markdown",
   "metadata": {},
   "source": [
    "#### Summary:\n",
    "#### data shape : 129487, 24\n",
    "#### types of variables: quantitative 5, qualitative: 19"
   ]
  },
  {
   "cell_type": "code",
   "execution_count": 8,
   "metadata": {},
   "outputs": [
    {
     "data": {
      "text/plain": [
       "Index(['id', 'Satisfaction', 'Gender', 'Customer Type', 'Age',\n",
       "       'Type of Travel', 'Class', 'Flight Distance', 'Seat comfort',\n",
       "       'Departure/Arrival time convenient', 'Food and drink', 'Gate location',\n",
       "       'Inflight wifi service', 'Inflight entertainment', 'Online support',\n",
       "       'Ease of Online booking', 'On-board service', 'Leg room service',\n",
       "       'Baggage handling', 'Checkin service', 'Cleanliness', 'Online boarding',\n",
       "       'Departure Delay in Minutes', 'Arrival Delay in Minutes'],\n",
       "      dtype='object')"
      ]
     },
     "execution_count": 8,
     "metadata": {},
     "output_type": "execute_result"
    }
   ],
   "source": [
    "df.columns"
   ]
  },
  {
   "cell_type": "code",
   "execution_count": 9,
   "metadata": {},
   "outputs": [
    {
     "data": {
      "text/html": [
       "<div>\n",
       "<style scoped>\n",
       "    .dataframe tbody tr th:only-of-type {\n",
       "        vertical-align: middle;\n",
       "    }\n",
       "\n",
       "    .dataframe tbody tr th {\n",
       "        vertical-align: top;\n",
       "    }\n",
       "\n",
       "    .dataframe thead th {\n",
       "        text-align: right;\n",
       "    }\n",
       "</style>\n",
       "<table border=\"1\" class=\"dataframe\">\n",
       "  <thead>\n",
       "    <tr style=\"text-align: right;\">\n",
       "      <th></th>\n",
       "      <th></th>\n",
       "      <th></th>\n",
       "      <th></th>\n",
       "      <th>id</th>\n",
       "      <th>Age</th>\n",
       "      <th>Type of Travel</th>\n",
       "      <th>Flight Distance</th>\n",
       "      <th>Seat comfort</th>\n",
       "      <th>Departure/Arrival time convenient</th>\n",
       "      <th>Food and drink</th>\n",
       "      <th>Gate location</th>\n",
       "      <th>Inflight wifi service</th>\n",
       "      <th>Inflight entertainment</th>\n",
       "      <th>Online support</th>\n",
       "      <th>Ease of Online booking</th>\n",
       "      <th>On-board service</th>\n",
       "      <th>Leg room service</th>\n",
       "      <th>Baggage handling</th>\n",
       "      <th>Checkin service</th>\n",
       "      <th>Cleanliness</th>\n",
       "      <th>Online boarding</th>\n",
       "      <th>Departure Delay in Minutes</th>\n",
       "      <th>Arrival Delay in Minutes</th>\n",
       "    </tr>\n",
       "    <tr>\n",
       "      <th>Satisfaction</th>\n",
       "      <th>Gender</th>\n",
       "      <th>Customer Type</th>\n",
       "      <th>Class</th>\n",
       "      <th></th>\n",
       "      <th></th>\n",
       "      <th></th>\n",
       "      <th></th>\n",
       "      <th></th>\n",
       "      <th></th>\n",
       "      <th></th>\n",
       "      <th></th>\n",
       "      <th></th>\n",
       "      <th></th>\n",
       "      <th></th>\n",
       "      <th></th>\n",
       "      <th></th>\n",
       "      <th></th>\n",
       "      <th></th>\n",
       "      <th></th>\n",
       "      <th></th>\n",
       "      <th></th>\n",
       "      <th></th>\n",
       "      <th></th>\n",
       "    </tr>\n",
       "  </thead>\n",
       "  <tbody>\n",
       "    <tr>\n",
       "      <th rowspan=\"12\" valign=\"top\">neutral or dissatisfied</th>\n",
       "      <th rowspan=\"6\" valign=\"top\">Female</th>\n",
       "      <th rowspan=\"3\" valign=\"top\">Loyal Customer</th>\n",
       "      <th>Business</th>\n",
       "      <td>5827</td>\n",
       "      <td>5827</td>\n",
       "      <td>5827</td>\n",
       "      <td>5827</td>\n",
       "      <td>5827</td>\n",
       "      <td>5827</td>\n",
       "      <td>5827</td>\n",
       "      <td>5827</td>\n",
       "      <td>5827</td>\n",
       "      <td>5827</td>\n",
       "      <td>5827</td>\n",
       "      <td>5827</td>\n",
       "      <td>5827</td>\n",
       "      <td>5827</td>\n",
       "      <td>5827</td>\n",
       "      <td>5827</td>\n",
       "      <td>5827</td>\n",
       "      <td>5827</td>\n",
       "      <td>5827</td>\n",
       "      <td>5827</td>\n",
       "    </tr>\n",
       "    <tr>\n",
       "      <th>Eco</th>\n",
       "      <td>5784</td>\n",
       "      <td>5784</td>\n",
       "      <td>5784</td>\n",
       "      <td>5784</td>\n",
       "      <td>5784</td>\n",
       "      <td>5784</td>\n",
       "      <td>5784</td>\n",
       "      <td>5784</td>\n",
       "      <td>5784</td>\n",
       "      <td>5784</td>\n",
       "      <td>5784</td>\n",
       "      <td>5784</td>\n",
       "      <td>5784</td>\n",
       "      <td>5784</td>\n",
       "      <td>5784</td>\n",
       "      <td>5784</td>\n",
       "      <td>5784</td>\n",
       "      <td>5784</td>\n",
       "      <td>5784</td>\n",
       "      <td>5784</td>\n",
       "    </tr>\n",
       "    <tr>\n",
       "      <th>Eco Plus</th>\n",
       "      <td>1430</td>\n",
       "      <td>1430</td>\n",
       "      <td>1430</td>\n",
       "      <td>1430</td>\n",
       "      <td>1430</td>\n",
       "      <td>1430</td>\n",
       "      <td>1430</td>\n",
       "      <td>1430</td>\n",
       "      <td>1430</td>\n",
       "      <td>1430</td>\n",
       "      <td>1430</td>\n",
       "      <td>1430</td>\n",
       "      <td>1430</td>\n",
       "      <td>1430</td>\n",
       "      <td>1430</td>\n",
       "      <td>1430</td>\n",
       "      <td>1430</td>\n",
       "      <td>1430</td>\n",
       "      <td>1430</td>\n",
       "      <td>1430</td>\n",
       "    </tr>\n",
       "    <tr>\n",
       "      <th rowspan=\"3\" valign=\"top\">disloyal Customer</th>\n",
       "      <th>Business</th>\n",
       "      <td>2885</td>\n",
       "      <td>2885</td>\n",
       "      <td>2885</td>\n",
       "      <td>2885</td>\n",
       "      <td>2885</td>\n",
       "      <td>2885</td>\n",
       "      <td>2885</td>\n",
       "      <td>2885</td>\n",
       "      <td>2885</td>\n",
       "      <td>2885</td>\n",
       "      <td>2885</td>\n",
       "      <td>2885</td>\n",
       "      <td>2885</td>\n",
       "      <td>2885</td>\n",
       "      <td>2885</td>\n",
       "      <td>2885</td>\n",
       "      <td>2885</td>\n",
       "      <td>2885</td>\n",
       "      <td>2885</td>\n",
       "      <td>2885</td>\n",
       "    </tr>\n",
       "    <tr>\n",
       "      <th>Eco</th>\n",
       "      <td>6319</td>\n",
       "      <td>6319</td>\n",
       "      <td>6319</td>\n",
       "      <td>6319</td>\n",
       "      <td>6319</td>\n",
       "      <td>6319</td>\n",
       "      <td>6319</td>\n",
       "      <td>6319</td>\n",
       "      <td>6319</td>\n",
       "      <td>6319</td>\n",
       "      <td>6319</td>\n",
       "      <td>6319</td>\n",
       "      <td>6319</td>\n",
       "      <td>6319</td>\n",
       "      <td>6319</td>\n",
       "      <td>6319</td>\n",
       "      <td>6319</td>\n",
       "      <td>6319</td>\n",
       "      <td>6319</td>\n",
       "      <td>6319</td>\n",
       "    </tr>\n",
       "    <tr>\n",
       "      <th>Eco Plus</th>\n",
       "      <td>659</td>\n",
       "      <td>659</td>\n",
       "      <td>659</td>\n",
       "      <td>659</td>\n",
       "      <td>659</td>\n",
       "      <td>659</td>\n",
       "      <td>659</td>\n",
       "      <td>659</td>\n",
       "      <td>659</td>\n",
       "      <td>659</td>\n",
       "      <td>659</td>\n",
       "      <td>659</td>\n",
       "      <td>659</td>\n",
       "      <td>659</td>\n",
       "      <td>659</td>\n",
       "      <td>659</td>\n",
       "      <td>659</td>\n",
       "      <td>659</td>\n",
       "      <td>659</td>\n",
       "      <td>659</td>\n",
       "    </tr>\n",
       "    <tr>\n",
       "      <th rowspan=\"6\" valign=\"top\">Male</th>\n",
       "      <th rowspan=\"3\" valign=\"top\">Loyal Customer</th>\n",
       "      <th>Business</th>\n",
       "      <td>6631</td>\n",
       "      <td>6631</td>\n",
       "      <td>6631</td>\n",
       "      <td>6631</td>\n",
       "      <td>6631</td>\n",
       "      <td>6631</td>\n",
       "      <td>6631</td>\n",
       "      <td>6631</td>\n",
       "      <td>6631</td>\n",
       "      <td>6631</td>\n",
       "      <td>6631</td>\n",
       "      <td>6631</td>\n",
       "      <td>6631</td>\n",
       "      <td>6631</td>\n",
       "      <td>6631</td>\n",
       "      <td>6631</td>\n",
       "      <td>6631</td>\n",
       "      <td>6631</td>\n",
       "      <td>6631</td>\n",
       "      <td>6631</td>\n",
       "    </tr>\n",
       "    <tr>\n",
       "      <th>Eco</th>\n",
       "      <td>17803</td>\n",
       "      <td>17803</td>\n",
       "      <td>17803</td>\n",
       "      <td>17803</td>\n",
       "      <td>17803</td>\n",
       "      <td>17803</td>\n",
       "      <td>17803</td>\n",
       "      <td>17803</td>\n",
       "      <td>17803</td>\n",
       "      <td>17803</td>\n",
       "      <td>17803</td>\n",
       "      <td>17803</td>\n",
       "      <td>17803</td>\n",
       "      <td>17803</td>\n",
       "      <td>17803</td>\n",
       "      <td>17803</td>\n",
       "      <td>17803</td>\n",
       "      <td>17803</td>\n",
       "      <td>17803</td>\n",
       "      <td>17803</td>\n",
       "    </tr>\n",
       "    <tr>\n",
       "      <th>Eco Plus</th>\n",
       "      <td>3104</td>\n",
       "      <td>3104</td>\n",
       "      <td>3104</td>\n",
       "      <td>3104</td>\n",
       "      <td>3104</td>\n",
       "      <td>3104</td>\n",
       "      <td>3104</td>\n",
       "      <td>3104</td>\n",
       "      <td>3104</td>\n",
       "      <td>3104</td>\n",
       "      <td>3104</td>\n",
       "      <td>3104</td>\n",
       "      <td>3104</td>\n",
       "      <td>3104</td>\n",
       "      <td>3104</td>\n",
       "      <td>3104</td>\n",
       "      <td>3104</td>\n",
       "      <td>3104</td>\n",
       "      <td>3104</td>\n",
       "      <td>3104</td>\n",
       "    </tr>\n",
       "    <tr>\n",
       "      <th rowspan=\"3\" valign=\"top\">disloyal Customer</th>\n",
       "      <th>Business</th>\n",
       "      <td>2670</td>\n",
       "      <td>2670</td>\n",
       "      <td>2670</td>\n",
       "      <td>2670</td>\n",
       "      <td>2670</td>\n",
       "      <td>2670</td>\n",
       "      <td>2670</td>\n",
       "      <td>2670</td>\n",
       "      <td>2670</td>\n",
       "      <td>2670</td>\n",
       "      <td>2670</td>\n",
       "      <td>2670</td>\n",
       "      <td>2670</td>\n",
       "      <td>2670</td>\n",
       "      <td>2670</td>\n",
       "      <td>2670</td>\n",
       "      <td>2670</td>\n",
       "      <td>2670</td>\n",
       "      <td>2670</td>\n",
       "      <td>2670</td>\n",
       "    </tr>\n",
       "    <tr>\n",
       "      <th>Eco</th>\n",
       "      <td>5313</td>\n",
       "      <td>5313</td>\n",
       "      <td>5313</td>\n",
       "      <td>5313</td>\n",
       "      <td>5313</td>\n",
       "      <td>5313</td>\n",
       "      <td>5313</td>\n",
       "      <td>5313</td>\n",
       "      <td>5313</td>\n",
       "      <td>5313</td>\n",
       "      <td>5313</td>\n",
       "      <td>5313</td>\n",
       "      <td>5313</td>\n",
       "      <td>5313</td>\n",
       "      <td>5313</td>\n",
       "      <td>5313</td>\n",
       "      <td>5313</td>\n",
       "      <td>5313</td>\n",
       "      <td>5313</td>\n",
       "      <td>5313</td>\n",
       "    </tr>\n",
       "    <tr>\n",
       "      <th>Eco Plus</th>\n",
       "      <td>180</td>\n",
       "      <td>180</td>\n",
       "      <td>180</td>\n",
       "      <td>180</td>\n",
       "      <td>180</td>\n",
       "      <td>180</td>\n",
       "      <td>180</td>\n",
       "      <td>180</td>\n",
       "      <td>180</td>\n",
       "      <td>180</td>\n",
       "      <td>180</td>\n",
       "      <td>180</td>\n",
       "      <td>180</td>\n",
       "      <td>180</td>\n",
       "      <td>180</td>\n",
       "      <td>180</td>\n",
       "      <td>180</td>\n",
       "      <td>180</td>\n",
       "      <td>180</td>\n",
       "      <td>180</td>\n",
       "    </tr>\n",
       "    <tr>\n",
       "      <th rowspan=\"12\" valign=\"top\">satisfied</th>\n",
       "      <th rowspan=\"6\" valign=\"top\">Female</th>\n",
       "      <th rowspan=\"3\" valign=\"top\">Loyal Customer</th>\n",
       "      <th>Business</th>\n",
       "      <td>20594</td>\n",
       "      <td>20594</td>\n",
       "      <td>20594</td>\n",
       "      <td>20594</td>\n",
       "      <td>20594</td>\n",
       "      <td>20594</td>\n",
       "      <td>20594</td>\n",
       "      <td>20594</td>\n",
       "      <td>20594</td>\n",
       "      <td>20594</td>\n",
       "      <td>20594</td>\n",
       "      <td>20594</td>\n",
       "      <td>20594</td>\n",
       "      <td>20594</td>\n",
       "      <td>20594</td>\n",
       "      <td>20594</td>\n",
       "      <td>20594</td>\n",
       "      <td>20594</td>\n",
       "      <td>20594</td>\n",
       "      <td>20594</td>\n",
       "    </tr>\n",
       "    <tr>\n",
       "      <th>Eco</th>\n",
       "      <td>16459</td>\n",
       "      <td>16459</td>\n",
       "      <td>16459</td>\n",
       "      <td>16459</td>\n",
       "      <td>16459</td>\n",
       "      <td>16459</td>\n",
       "      <td>16459</td>\n",
       "      <td>16459</td>\n",
       "      <td>16459</td>\n",
       "      <td>16459</td>\n",
       "      <td>16459</td>\n",
       "      <td>16459</td>\n",
       "      <td>16459</td>\n",
       "      <td>16459</td>\n",
       "      <td>16459</td>\n",
       "      <td>16459</td>\n",
       "      <td>16459</td>\n",
       "      <td>16459</td>\n",
       "      <td>16459</td>\n",
       "      <td>16459</td>\n",
       "    </tr>\n",
       "    <tr>\n",
       "      <th>Eco Plus</th>\n",
       "      <td>2805</td>\n",
       "      <td>2805</td>\n",
       "      <td>2805</td>\n",
       "      <td>2805</td>\n",
       "      <td>2805</td>\n",
       "      <td>2805</td>\n",
       "      <td>2805</td>\n",
       "      <td>2805</td>\n",
       "      <td>2805</td>\n",
       "      <td>2805</td>\n",
       "      <td>2805</td>\n",
       "      <td>2805</td>\n",
       "      <td>2805</td>\n",
       "      <td>2805</td>\n",
       "      <td>2805</td>\n",
       "      <td>2805</td>\n",
       "      <td>2805</td>\n",
       "      <td>2805</td>\n",
       "      <td>2805</td>\n",
       "      <td>2805</td>\n",
       "    </tr>\n",
       "    <tr>\n",
       "      <th rowspan=\"3\" valign=\"top\">disloyal Customer</th>\n",
       "      <th>Business</th>\n",
       "      <td>1873</td>\n",
       "      <td>1873</td>\n",
       "      <td>1873</td>\n",
       "      <td>1873</td>\n",
       "      <td>1873</td>\n",
       "      <td>1873</td>\n",
       "      <td>1873</td>\n",
       "      <td>1873</td>\n",
       "      <td>1873</td>\n",
       "      <td>1873</td>\n",
       "      <td>1873</td>\n",
       "      <td>1873</td>\n",
       "      <td>1873</td>\n",
       "      <td>1873</td>\n",
       "      <td>1873</td>\n",
       "      <td>1873</td>\n",
       "      <td>1873</td>\n",
       "      <td>1873</td>\n",
       "      <td>1873</td>\n",
       "      <td>1873</td>\n",
       "    </tr>\n",
       "    <tr>\n",
       "      <th>Eco</th>\n",
       "      <td>1009</td>\n",
       "      <td>1009</td>\n",
       "      <td>1009</td>\n",
       "      <td>1009</td>\n",
       "      <td>1009</td>\n",
       "      <td>1009</td>\n",
       "      <td>1009</td>\n",
       "      <td>1009</td>\n",
       "      <td>1009</td>\n",
       "      <td>1009</td>\n",
       "      <td>1009</td>\n",
       "      <td>1009</td>\n",
       "      <td>1009</td>\n",
       "      <td>1009</td>\n",
       "      <td>1009</td>\n",
       "      <td>1009</td>\n",
       "      <td>1009</td>\n",
       "      <td>1009</td>\n",
       "      <td>1009</td>\n",
       "      <td>1009</td>\n",
       "    </tr>\n",
       "    <tr>\n",
       "      <th>Eco Plus</th>\n",
       "      <td>59</td>\n",
       "      <td>59</td>\n",
       "      <td>59</td>\n",
       "      <td>59</td>\n",
       "      <td>59</td>\n",
       "      <td>59</td>\n",
       "      <td>59</td>\n",
       "      <td>59</td>\n",
       "      <td>59</td>\n",
       "      <td>59</td>\n",
       "      <td>59</td>\n",
       "      <td>59</td>\n",
       "      <td>59</td>\n",
       "      <td>59</td>\n",
       "      <td>59</td>\n",
       "      <td>59</td>\n",
       "      <td>59</td>\n",
       "      <td>59</td>\n",
       "      <td>59</td>\n",
       "      <td>59</td>\n",
       "    </tr>\n",
       "    <tr>\n",
       "      <th rowspan=\"6\" valign=\"top\">Male</th>\n",
       "      <th rowspan=\"3\" valign=\"top\">Loyal Customer</th>\n",
       "      <th>Business</th>\n",
       "      <td>19728</td>\n",
       "      <td>19728</td>\n",
       "      <td>19728</td>\n",
       "      <td>19728</td>\n",
       "      <td>19728</td>\n",
       "      <td>19728</td>\n",
       "      <td>19728</td>\n",
       "      <td>19728</td>\n",
       "      <td>19728</td>\n",
       "      <td>19728</td>\n",
       "      <td>19728</td>\n",
       "      <td>19728</td>\n",
       "      <td>19728</td>\n",
       "      <td>19728</td>\n",
       "      <td>19728</td>\n",
       "      <td>19728</td>\n",
       "      <td>19728</td>\n",
       "      <td>19728</td>\n",
       "      <td>19728</td>\n",
       "      <td>19728</td>\n",
       "    </tr>\n",
       "    <tr>\n",
       "      <th>Eco</th>\n",
       "      <td>4479</td>\n",
       "      <td>4479</td>\n",
       "      <td>4479</td>\n",
       "      <td>4479</td>\n",
       "      <td>4479</td>\n",
       "      <td>4479</td>\n",
       "      <td>4479</td>\n",
       "      <td>4479</td>\n",
       "      <td>4479</td>\n",
       "      <td>4479</td>\n",
       "      <td>4479</td>\n",
       "      <td>4479</td>\n",
       "      <td>4479</td>\n",
       "      <td>4479</td>\n",
       "      <td>4479</td>\n",
       "      <td>4479</td>\n",
       "      <td>4479</td>\n",
       "      <td>4479</td>\n",
       "      <td>4479</td>\n",
       "      <td>4479</td>\n",
       "    </tr>\n",
       "    <tr>\n",
       "      <th>Eco Plus</th>\n",
       "      <td>1129</td>\n",
       "      <td>1129</td>\n",
       "      <td>1129</td>\n",
       "      <td>1129</td>\n",
       "      <td>1129</td>\n",
       "      <td>1129</td>\n",
       "      <td>1129</td>\n",
       "      <td>1129</td>\n",
       "      <td>1129</td>\n",
       "      <td>1129</td>\n",
       "      <td>1129</td>\n",
       "      <td>1129</td>\n",
       "      <td>1129</td>\n",
       "      <td>1129</td>\n",
       "      <td>1129</td>\n",
       "      <td>1129</td>\n",
       "      <td>1129</td>\n",
       "      <td>1129</td>\n",
       "      <td>1129</td>\n",
       "      <td>1129</td>\n",
       "    </tr>\n",
       "    <tr>\n",
       "      <th rowspan=\"3\" valign=\"top\">disloyal Customer</th>\n",
       "      <th>Business</th>\n",
       "      <td>1782</td>\n",
       "      <td>1782</td>\n",
       "      <td>1782</td>\n",
       "      <td>1782</td>\n",
       "      <td>1782</td>\n",
       "      <td>1782</td>\n",
       "      <td>1782</td>\n",
       "      <td>1782</td>\n",
       "      <td>1782</td>\n",
       "      <td>1782</td>\n",
       "      <td>1782</td>\n",
       "      <td>1782</td>\n",
       "      <td>1782</td>\n",
       "      <td>1782</td>\n",
       "      <td>1782</td>\n",
       "      <td>1782</td>\n",
       "      <td>1782</td>\n",
       "      <td>1782</td>\n",
       "      <td>1782</td>\n",
       "      <td>1782</td>\n",
       "    </tr>\n",
       "    <tr>\n",
       "      <th>Eco</th>\n",
       "      <td>951</td>\n",
       "      <td>951</td>\n",
       "      <td>951</td>\n",
       "      <td>951</td>\n",
       "      <td>951</td>\n",
       "      <td>951</td>\n",
       "      <td>951</td>\n",
       "      <td>951</td>\n",
       "      <td>951</td>\n",
       "      <td>951</td>\n",
       "      <td>951</td>\n",
       "      <td>951</td>\n",
       "      <td>951</td>\n",
       "      <td>951</td>\n",
       "      <td>951</td>\n",
       "      <td>951</td>\n",
       "      <td>951</td>\n",
       "      <td>951</td>\n",
       "      <td>951</td>\n",
       "      <td>951</td>\n",
       "    </tr>\n",
       "    <tr>\n",
       "      <th>Eco Plus</th>\n",
       "      <td>14</td>\n",
       "      <td>14</td>\n",
       "      <td>14</td>\n",
       "      <td>14</td>\n",
       "      <td>14</td>\n",
       "      <td>14</td>\n",
       "      <td>14</td>\n",
       "      <td>14</td>\n",
       "      <td>14</td>\n",
       "      <td>14</td>\n",
       "      <td>14</td>\n",
       "      <td>14</td>\n",
       "      <td>14</td>\n",
       "      <td>14</td>\n",
       "      <td>14</td>\n",
       "      <td>14</td>\n",
       "      <td>14</td>\n",
       "      <td>14</td>\n",
       "      <td>14</td>\n",
       "      <td>14</td>\n",
       "    </tr>\n",
       "  </tbody>\n",
       "</table>\n",
       "</div>"
      ],
      "text/plain": [
       "                                                              id    Age  \\\n",
       "Satisfaction            Gender Customer Type     Class                    \n",
       "neutral or dissatisfied Female Loyal Customer    Business   5827   5827   \n",
       "                                                 Eco        5784   5784   \n",
       "                                                 Eco Plus   1430   1430   \n",
       "                               disloyal Customer Business   2885   2885   \n",
       "                                                 Eco        6319   6319   \n",
       "                                                 Eco Plus    659    659   \n",
       "                        Male   Loyal Customer    Business   6631   6631   \n",
       "                                                 Eco       17803  17803   \n",
       "                                                 Eco Plus   3104   3104   \n",
       "                               disloyal Customer Business   2670   2670   \n",
       "                                                 Eco        5313   5313   \n",
       "                                                 Eco Plus    180    180   \n",
       "satisfied               Female Loyal Customer    Business  20594  20594   \n",
       "                                                 Eco       16459  16459   \n",
       "                                                 Eco Plus   2805   2805   \n",
       "                               disloyal Customer Business   1873   1873   \n",
       "                                                 Eco        1009   1009   \n",
       "                                                 Eco Plus     59     59   \n",
       "                        Male   Loyal Customer    Business  19728  19728   \n",
       "                                                 Eco        4479   4479   \n",
       "                                                 Eco Plus   1129   1129   \n",
       "                               disloyal Customer Business   1782   1782   \n",
       "                                                 Eco         951    951   \n",
       "                                                 Eco Plus     14     14   \n",
       "\n",
       "                                                           Type of Travel  \\\n",
       "Satisfaction            Gender Customer Type     Class                      \n",
       "neutral or dissatisfied Female Loyal Customer    Business            5827   \n",
       "                                                 Eco                 5784   \n",
       "                                                 Eco Plus            1430   \n",
       "                               disloyal Customer Business            2885   \n",
       "                                                 Eco                 6319   \n",
       "                                                 Eco Plus             659   \n",
       "                        Male   Loyal Customer    Business            6631   \n",
       "                                                 Eco                17803   \n",
       "                                                 Eco Plus            3104   \n",
       "                               disloyal Customer Business            2670   \n",
       "                                                 Eco                 5313   \n",
       "                                                 Eco Plus             180   \n",
       "satisfied               Female Loyal Customer    Business           20594   \n",
       "                                                 Eco                16459   \n",
       "                                                 Eco Plus            2805   \n",
       "                               disloyal Customer Business            1873   \n",
       "                                                 Eco                 1009   \n",
       "                                                 Eco Plus              59   \n",
       "                        Male   Loyal Customer    Business           19728   \n",
       "                                                 Eco                 4479   \n",
       "                                                 Eco Plus            1129   \n",
       "                               disloyal Customer Business            1782   \n",
       "                                                 Eco                  951   \n",
       "                                                 Eco Plus              14   \n",
       "\n",
       "                                                           Flight Distance  \\\n",
       "Satisfaction            Gender Customer Type     Class                       \n",
       "neutral or dissatisfied Female Loyal Customer    Business             5827   \n",
       "                                                 Eco                  5784   \n",
       "                                                 Eco Plus             1430   \n",
       "                               disloyal Customer Business             2885   \n",
       "                                                 Eco                  6319   \n",
       "                                                 Eco Plus              659   \n",
       "                        Male   Loyal Customer    Business             6631   \n",
       "                                                 Eco                 17803   \n",
       "                                                 Eco Plus             3104   \n",
       "                               disloyal Customer Business             2670   \n",
       "                                                 Eco                  5313   \n",
       "                                                 Eco Plus              180   \n",
       "satisfied               Female Loyal Customer    Business            20594   \n",
       "                                                 Eco                 16459   \n",
       "                                                 Eco Plus             2805   \n",
       "                               disloyal Customer Business             1873   \n",
       "                                                 Eco                  1009   \n",
       "                                                 Eco Plus               59   \n",
       "                        Male   Loyal Customer    Business            19728   \n",
       "                                                 Eco                  4479   \n",
       "                                                 Eco Plus             1129   \n",
       "                               disloyal Customer Business             1782   \n",
       "                                                 Eco                   951   \n",
       "                                                 Eco Plus               14   \n",
       "\n",
       "                                                           Seat comfort  \\\n",
       "Satisfaction            Gender Customer Type     Class                    \n",
       "neutral or dissatisfied Female Loyal Customer    Business          5827   \n",
       "                                                 Eco               5784   \n",
       "                                                 Eco Plus          1430   \n",
       "                               disloyal Customer Business          2885   \n",
       "                                                 Eco               6319   \n",
       "                                                 Eco Plus           659   \n",
       "                        Male   Loyal Customer    Business          6631   \n",
       "                                                 Eco              17803   \n",
       "                                                 Eco Plus          3104   \n",
       "                               disloyal Customer Business          2670   \n",
       "                                                 Eco               5313   \n",
       "                                                 Eco Plus           180   \n",
       "satisfied               Female Loyal Customer    Business         20594   \n",
       "                                                 Eco              16459   \n",
       "                                                 Eco Plus          2805   \n",
       "                               disloyal Customer Business          1873   \n",
       "                                                 Eco               1009   \n",
       "                                                 Eco Plus            59   \n",
       "                        Male   Loyal Customer    Business         19728   \n",
       "                                                 Eco               4479   \n",
       "                                                 Eco Plus          1129   \n",
       "                               disloyal Customer Business          1782   \n",
       "                                                 Eco                951   \n",
       "                                                 Eco Plus            14   \n",
       "\n",
       "                                                           Departure/Arrival time convenient  \\\n",
       "Satisfaction            Gender Customer Type     Class                                         \n",
       "neutral or dissatisfied Female Loyal Customer    Business                               5827   \n",
       "                                                 Eco                                    5784   \n",
       "                                                 Eco Plus                               1430   \n",
       "                               disloyal Customer Business                               2885   \n",
       "                                                 Eco                                    6319   \n",
       "                                                 Eco Plus                                659   \n",
       "                        Male   Loyal Customer    Business                               6631   \n",
       "                                                 Eco                                   17803   \n",
       "                                                 Eco Plus                               3104   \n",
       "                               disloyal Customer Business                               2670   \n",
       "                                                 Eco                                    5313   \n",
       "                                                 Eco Plus                                180   \n",
       "satisfied               Female Loyal Customer    Business                              20594   \n",
       "                                                 Eco                                   16459   \n",
       "                                                 Eco Plus                               2805   \n",
       "                               disloyal Customer Business                               1873   \n",
       "                                                 Eco                                    1009   \n",
       "                                                 Eco Plus                                 59   \n",
       "                        Male   Loyal Customer    Business                              19728   \n",
       "                                                 Eco                                    4479   \n",
       "                                                 Eco Plus                               1129   \n",
       "                               disloyal Customer Business                               1782   \n",
       "                                                 Eco                                     951   \n",
       "                                                 Eco Plus                                 14   \n",
       "\n",
       "                                                           Food and drink  \\\n",
       "Satisfaction            Gender Customer Type     Class                      \n",
       "neutral or dissatisfied Female Loyal Customer    Business            5827   \n",
       "                                                 Eco                 5784   \n",
       "                                                 Eco Plus            1430   \n",
       "                               disloyal Customer Business            2885   \n",
       "                                                 Eco                 6319   \n",
       "                                                 Eco Plus             659   \n",
       "                        Male   Loyal Customer    Business            6631   \n",
       "                                                 Eco                17803   \n",
       "                                                 Eco Plus            3104   \n",
       "                               disloyal Customer Business            2670   \n",
       "                                                 Eco                 5313   \n",
       "                                                 Eco Plus             180   \n",
       "satisfied               Female Loyal Customer    Business           20594   \n",
       "                                                 Eco                16459   \n",
       "                                                 Eco Plus            2805   \n",
       "                               disloyal Customer Business            1873   \n",
       "                                                 Eco                 1009   \n",
       "                                                 Eco Plus              59   \n",
       "                        Male   Loyal Customer    Business           19728   \n",
       "                                                 Eco                 4479   \n",
       "                                                 Eco Plus            1129   \n",
       "                               disloyal Customer Business            1782   \n",
       "                                                 Eco                  951   \n",
       "                                                 Eco Plus              14   \n",
       "\n",
       "                                                           Gate location  \\\n",
       "Satisfaction            Gender Customer Type     Class                     \n",
       "neutral or dissatisfied Female Loyal Customer    Business           5827   \n",
       "                                                 Eco                5784   \n",
       "                                                 Eco Plus           1430   \n",
       "                               disloyal Customer Business           2885   \n",
       "                                                 Eco                6319   \n",
       "                                                 Eco Plus            659   \n",
       "                        Male   Loyal Customer    Business           6631   \n",
       "                                                 Eco               17803   \n",
       "                                                 Eco Plus           3104   \n",
       "                               disloyal Customer Business           2670   \n",
       "                                                 Eco                5313   \n",
       "                                                 Eco Plus            180   \n",
       "satisfied               Female Loyal Customer    Business          20594   \n",
       "                                                 Eco               16459   \n",
       "                                                 Eco Plus           2805   \n",
       "                               disloyal Customer Business           1873   \n",
       "                                                 Eco                1009   \n",
       "                                                 Eco Plus             59   \n",
       "                        Male   Loyal Customer    Business          19728   \n",
       "                                                 Eco                4479   \n",
       "                                                 Eco Plus           1129   \n",
       "                               disloyal Customer Business           1782   \n",
       "                                                 Eco                 951   \n",
       "                                                 Eco Plus             14   \n",
       "\n",
       "                                                           Inflight wifi service  \\\n",
       "Satisfaction            Gender Customer Type     Class                             \n",
       "neutral or dissatisfied Female Loyal Customer    Business                   5827   \n",
       "                                                 Eco                        5784   \n",
       "                                                 Eco Plus                   1430   \n",
       "                               disloyal Customer Business                   2885   \n",
       "                                                 Eco                        6319   \n",
       "                                                 Eco Plus                    659   \n",
       "                        Male   Loyal Customer    Business                   6631   \n",
       "                                                 Eco                       17803   \n",
       "                                                 Eco Plus                   3104   \n",
       "                               disloyal Customer Business                   2670   \n",
       "                                                 Eco                        5313   \n",
       "                                                 Eco Plus                    180   \n",
       "satisfied               Female Loyal Customer    Business                  20594   \n",
       "                                                 Eco                       16459   \n",
       "                                                 Eco Plus                   2805   \n",
       "                               disloyal Customer Business                   1873   \n",
       "                                                 Eco                        1009   \n",
       "                                                 Eco Plus                     59   \n",
       "                        Male   Loyal Customer    Business                  19728   \n",
       "                                                 Eco                        4479   \n",
       "                                                 Eco Plus                   1129   \n",
       "                               disloyal Customer Business                   1782   \n",
       "                                                 Eco                         951   \n",
       "                                                 Eco Plus                     14   \n",
       "\n",
       "                                                           Inflight entertainment  \\\n",
       "Satisfaction            Gender Customer Type     Class                              \n",
       "neutral or dissatisfied Female Loyal Customer    Business                    5827   \n",
       "                                                 Eco                         5784   \n",
       "                                                 Eco Plus                    1430   \n",
       "                               disloyal Customer Business                    2885   \n",
       "                                                 Eco                         6319   \n",
       "                                                 Eco Plus                     659   \n",
       "                        Male   Loyal Customer    Business                    6631   \n",
       "                                                 Eco                        17803   \n",
       "                                                 Eco Plus                    3104   \n",
       "                               disloyal Customer Business                    2670   \n",
       "                                                 Eco                         5313   \n",
       "                                                 Eco Plus                     180   \n",
       "satisfied               Female Loyal Customer    Business                   20594   \n",
       "                                                 Eco                        16459   \n",
       "                                                 Eco Plus                    2805   \n",
       "                               disloyal Customer Business                    1873   \n",
       "                                                 Eco                         1009   \n",
       "                                                 Eco Plus                      59   \n",
       "                        Male   Loyal Customer    Business                   19728   \n",
       "                                                 Eco                         4479   \n",
       "                                                 Eco Plus                    1129   \n",
       "                               disloyal Customer Business                    1782   \n",
       "                                                 Eco                          951   \n",
       "                                                 Eco Plus                      14   \n",
       "\n",
       "                                                           Online support  \\\n",
       "Satisfaction            Gender Customer Type     Class                      \n",
       "neutral or dissatisfied Female Loyal Customer    Business            5827   \n",
       "                                                 Eco                 5784   \n",
       "                                                 Eco Plus            1430   \n",
       "                               disloyal Customer Business            2885   \n",
       "                                                 Eco                 6319   \n",
       "                                                 Eco Plus             659   \n",
       "                        Male   Loyal Customer    Business            6631   \n",
       "                                                 Eco                17803   \n",
       "                                                 Eco Plus            3104   \n",
       "                               disloyal Customer Business            2670   \n",
       "                                                 Eco                 5313   \n",
       "                                                 Eco Plus             180   \n",
       "satisfied               Female Loyal Customer    Business           20594   \n",
       "                                                 Eco                16459   \n",
       "                                                 Eco Plus            2805   \n",
       "                               disloyal Customer Business            1873   \n",
       "                                                 Eco                 1009   \n",
       "                                                 Eco Plus              59   \n",
       "                        Male   Loyal Customer    Business           19728   \n",
       "                                                 Eco                 4479   \n",
       "                                                 Eco Plus            1129   \n",
       "                               disloyal Customer Business            1782   \n",
       "                                                 Eco                  951   \n",
       "                                                 Eco Plus              14   \n",
       "\n",
       "                                                           Ease of Online booking  \\\n",
       "Satisfaction            Gender Customer Type     Class                              \n",
       "neutral or dissatisfied Female Loyal Customer    Business                    5827   \n",
       "                                                 Eco                         5784   \n",
       "                                                 Eco Plus                    1430   \n",
       "                               disloyal Customer Business                    2885   \n",
       "                                                 Eco                         6319   \n",
       "                                                 Eco Plus                     659   \n",
       "                        Male   Loyal Customer    Business                    6631   \n",
       "                                                 Eco                        17803   \n",
       "                                                 Eco Plus                    3104   \n",
       "                               disloyal Customer Business                    2670   \n",
       "                                                 Eco                         5313   \n",
       "                                                 Eco Plus                     180   \n",
       "satisfied               Female Loyal Customer    Business                   20594   \n",
       "                                                 Eco                        16459   \n",
       "                                                 Eco Plus                    2805   \n",
       "                               disloyal Customer Business                    1873   \n",
       "                                                 Eco                         1009   \n",
       "                                                 Eco Plus                      59   \n",
       "                        Male   Loyal Customer    Business                   19728   \n",
       "                                                 Eco                         4479   \n",
       "                                                 Eco Plus                    1129   \n",
       "                               disloyal Customer Business                    1782   \n",
       "                                                 Eco                          951   \n",
       "                                                 Eco Plus                      14   \n",
       "\n",
       "                                                           On-board service  \\\n",
       "Satisfaction            Gender Customer Type     Class                        \n",
       "neutral or dissatisfied Female Loyal Customer    Business              5827   \n",
       "                                                 Eco                   5784   \n",
       "                                                 Eco Plus              1430   \n",
       "                               disloyal Customer Business              2885   \n",
       "                                                 Eco                   6319   \n",
       "                                                 Eco Plus               659   \n",
       "                        Male   Loyal Customer    Business              6631   \n",
       "                                                 Eco                  17803   \n",
       "                                                 Eco Plus              3104   \n",
       "                               disloyal Customer Business              2670   \n",
       "                                                 Eco                   5313   \n",
       "                                                 Eco Plus               180   \n",
       "satisfied               Female Loyal Customer    Business             20594   \n",
       "                                                 Eco                  16459   \n",
       "                                                 Eco Plus              2805   \n",
       "                               disloyal Customer Business              1873   \n",
       "                                                 Eco                   1009   \n",
       "                                                 Eco Plus                59   \n",
       "                        Male   Loyal Customer    Business             19728   \n",
       "                                                 Eco                   4479   \n",
       "                                                 Eco Plus              1129   \n",
       "                               disloyal Customer Business              1782   \n",
       "                                                 Eco                    951   \n",
       "                                                 Eco Plus                14   \n",
       "\n",
       "                                                           Leg room service  \\\n",
       "Satisfaction            Gender Customer Type     Class                        \n",
       "neutral or dissatisfied Female Loyal Customer    Business              5827   \n",
       "                                                 Eco                   5784   \n",
       "                                                 Eco Plus              1430   \n",
       "                               disloyal Customer Business              2885   \n",
       "                                                 Eco                   6319   \n",
       "                                                 Eco Plus               659   \n",
       "                        Male   Loyal Customer    Business              6631   \n",
       "                                                 Eco                  17803   \n",
       "                                                 Eco Plus              3104   \n",
       "                               disloyal Customer Business              2670   \n",
       "                                                 Eco                   5313   \n",
       "                                                 Eco Plus               180   \n",
       "satisfied               Female Loyal Customer    Business             20594   \n",
       "                                                 Eco                  16459   \n",
       "                                                 Eco Plus              2805   \n",
       "                               disloyal Customer Business              1873   \n",
       "                                                 Eco                   1009   \n",
       "                                                 Eco Plus                59   \n",
       "                        Male   Loyal Customer    Business             19728   \n",
       "                                                 Eco                   4479   \n",
       "                                                 Eco Plus              1129   \n",
       "                               disloyal Customer Business              1782   \n",
       "                                                 Eco                    951   \n",
       "                                                 Eco Plus                14   \n",
       "\n",
       "                                                           Baggage handling  \\\n",
       "Satisfaction            Gender Customer Type     Class                        \n",
       "neutral or dissatisfied Female Loyal Customer    Business              5827   \n",
       "                                                 Eco                   5784   \n",
       "                                                 Eco Plus              1430   \n",
       "                               disloyal Customer Business              2885   \n",
       "                                                 Eco                   6319   \n",
       "                                                 Eco Plus               659   \n",
       "                        Male   Loyal Customer    Business              6631   \n",
       "                                                 Eco                  17803   \n",
       "                                                 Eco Plus              3104   \n",
       "                               disloyal Customer Business              2670   \n",
       "                                                 Eco                   5313   \n",
       "                                                 Eco Plus               180   \n",
       "satisfied               Female Loyal Customer    Business             20594   \n",
       "                                                 Eco                  16459   \n",
       "                                                 Eco Plus              2805   \n",
       "                               disloyal Customer Business              1873   \n",
       "                                                 Eco                   1009   \n",
       "                                                 Eco Plus                59   \n",
       "                        Male   Loyal Customer    Business             19728   \n",
       "                                                 Eco                   4479   \n",
       "                                                 Eco Plus              1129   \n",
       "                               disloyal Customer Business              1782   \n",
       "                                                 Eco                    951   \n",
       "                                                 Eco Plus                14   \n",
       "\n",
       "                                                           Checkin service  \\\n",
       "Satisfaction            Gender Customer Type     Class                       \n",
       "neutral or dissatisfied Female Loyal Customer    Business             5827   \n",
       "                                                 Eco                  5784   \n",
       "                                                 Eco Plus             1430   \n",
       "                               disloyal Customer Business             2885   \n",
       "                                                 Eco                  6319   \n",
       "                                                 Eco Plus              659   \n",
       "                        Male   Loyal Customer    Business             6631   \n",
       "                                                 Eco                 17803   \n",
       "                                                 Eco Plus             3104   \n",
       "                               disloyal Customer Business             2670   \n",
       "                                                 Eco                  5313   \n",
       "                                                 Eco Plus              180   \n",
       "satisfied               Female Loyal Customer    Business            20594   \n",
       "                                                 Eco                 16459   \n",
       "                                                 Eco Plus             2805   \n",
       "                               disloyal Customer Business             1873   \n",
       "                                                 Eco                  1009   \n",
       "                                                 Eco Plus               59   \n",
       "                        Male   Loyal Customer    Business            19728   \n",
       "                                                 Eco                  4479   \n",
       "                                                 Eco Plus             1129   \n",
       "                               disloyal Customer Business             1782   \n",
       "                                                 Eco                   951   \n",
       "                                                 Eco Plus               14   \n",
       "\n",
       "                                                           Cleanliness  \\\n",
       "Satisfaction            Gender Customer Type     Class                   \n",
       "neutral or dissatisfied Female Loyal Customer    Business         5827   \n",
       "                                                 Eco              5784   \n",
       "                                                 Eco Plus         1430   \n",
       "                               disloyal Customer Business         2885   \n",
       "                                                 Eco              6319   \n",
       "                                                 Eco Plus          659   \n",
       "                        Male   Loyal Customer    Business         6631   \n",
       "                                                 Eco             17803   \n",
       "                                                 Eco Plus         3104   \n",
       "                               disloyal Customer Business         2670   \n",
       "                                                 Eco              5313   \n",
       "                                                 Eco Plus          180   \n",
       "satisfied               Female Loyal Customer    Business        20594   \n",
       "                                                 Eco             16459   \n",
       "                                                 Eco Plus         2805   \n",
       "                               disloyal Customer Business         1873   \n",
       "                                                 Eco              1009   \n",
       "                                                 Eco Plus           59   \n",
       "                        Male   Loyal Customer    Business        19728   \n",
       "                                                 Eco              4479   \n",
       "                                                 Eco Plus         1129   \n",
       "                               disloyal Customer Business         1782   \n",
       "                                                 Eco               951   \n",
       "                                                 Eco Plus           14   \n",
       "\n",
       "                                                           Online boarding  \\\n",
       "Satisfaction            Gender Customer Type     Class                       \n",
       "neutral or dissatisfied Female Loyal Customer    Business             5827   \n",
       "                                                 Eco                  5784   \n",
       "                                                 Eco Plus             1430   \n",
       "                               disloyal Customer Business             2885   \n",
       "                                                 Eco                  6319   \n",
       "                                                 Eco Plus              659   \n",
       "                        Male   Loyal Customer    Business             6631   \n",
       "                                                 Eco                 17803   \n",
       "                                                 Eco Plus             3104   \n",
       "                               disloyal Customer Business             2670   \n",
       "                                                 Eco                  5313   \n",
       "                                                 Eco Plus              180   \n",
       "satisfied               Female Loyal Customer    Business            20594   \n",
       "                                                 Eco                 16459   \n",
       "                                                 Eco Plus             2805   \n",
       "                               disloyal Customer Business             1873   \n",
       "                                                 Eco                  1009   \n",
       "                                                 Eco Plus               59   \n",
       "                        Male   Loyal Customer    Business            19728   \n",
       "                                                 Eco                  4479   \n",
       "                                                 Eco Plus             1129   \n",
       "                               disloyal Customer Business             1782   \n",
       "                                                 Eco                   951   \n",
       "                                                 Eco Plus               14   \n",
       "\n",
       "                                                           Departure Delay in Minutes  \\\n",
       "Satisfaction            Gender Customer Type     Class                                  \n",
       "neutral or dissatisfied Female Loyal Customer    Business                        5827   \n",
       "                                                 Eco                             5784   \n",
       "                                                 Eco Plus                        1430   \n",
       "                               disloyal Customer Business                        2885   \n",
       "                                                 Eco                             6319   \n",
       "                                                 Eco Plus                         659   \n",
       "                        Male   Loyal Customer    Business                        6631   \n",
       "                                                 Eco                            17803   \n",
       "                                                 Eco Plus                        3104   \n",
       "                               disloyal Customer Business                        2670   \n",
       "                                                 Eco                             5313   \n",
       "                                                 Eco Plus                         180   \n",
       "satisfied               Female Loyal Customer    Business                       20594   \n",
       "                                                 Eco                            16459   \n",
       "                                                 Eco Plus                        2805   \n",
       "                               disloyal Customer Business                        1873   \n",
       "                                                 Eco                             1009   \n",
       "                                                 Eco Plus                          59   \n",
       "                        Male   Loyal Customer    Business                       19728   \n",
       "                                                 Eco                             4479   \n",
       "                                                 Eco Plus                        1129   \n",
       "                               disloyal Customer Business                        1782   \n",
       "                                                 Eco                              951   \n",
       "                                                 Eco Plus                          14   \n",
       "\n",
       "                                                           Arrival Delay in Minutes  \n",
       "Satisfaction            Gender Customer Type     Class                               \n",
       "neutral or dissatisfied Female Loyal Customer    Business                      5827  \n",
       "                                                 Eco                           5784  \n",
       "                                                 Eco Plus                      1430  \n",
       "                               disloyal Customer Business                      2885  \n",
       "                                                 Eco                           6319  \n",
       "                                                 Eco Plus                       659  \n",
       "                        Male   Loyal Customer    Business                      6631  \n",
       "                                                 Eco                          17803  \n",
       "                                                 Eco Plus                      3104  \n",
       "                               disloyal Customer Business                      2670  \n",
       "                                                 Eco                           5313  \n",
       "                                                 Eco Plus                       180  \n",
       "satisfied               Female Loyal Customer    Business                     20594  \n",
       "                                                 Eco                          16459  \n",
       "                                                 Eco Plus                      2805  \n",
       "                               disloyal Customer Business                      1873  \n",
       "                                                 Eco                           1009  \n",
       "                                                 Eco Plus                        59  \n",
       "                        Male   Loyal Customer    Business                     19728  \n",
       "                                                 Eco                           4479  \n",
       "                                                 Eco Plus                      1129  \n",
       "                               disloyal Customer Business                      1782  \n",
       "                                                 Eco                            951  \n",
       "                                                 Eco Plus                        14  "
      ]
     },
     "execution_count": 9,
     "metadata": {},
     "output_type": "execute_result"
    }
   ],
   "source": [
    "df.groupby(by=[\"Satisfaction\", \"Gender\", 'Customer Type', 'Class']).count()"
   ]
  },
  {
   "attachments": {},
   "cell_type": "markdown",
   "metadata": {},
   "source": [
    "## Tocalculate P-value to understand the if the features are significant influence to 'Satisfaction'"
   ]
  },
  {
   "cell_type": "code",
   "execution_count": 20,
   "metadata": {},
   "outputs": [
    {
     "data": {
      "text/html": [
       "<div>\n",
       "<style scoped>\n",
       "    .dataframe tbody tr th:only-of-type {\n",
       "        vertical-align: middle;\n",
       "    }\n",
       "\n",
       "    .dataframe tbody tr th {\n",
       "        vertical-align: top;\n",
       "    }\n",
       "\n",
       "    .dataframe thead th {\n",
       "        text-align: right;\n",
       "    }\n",
       "</style>\n",
       "<table border=\"1\" class=\"dataframe\">\n",
       "  <thead>\n",
       "    <tr style=\"text-align: right;\">\n",
       "      <th></th>\n",
       "      <th>p-value</th>\n",
       "    </tr>\n",
       "    <tr>\n",
       "      <th>Feature</th>\n",
       "      <th></th>\n",
       "    </tr>\n",
       "  </thead>\n",
       "  <tbody>\n",
       "    <tr>\n",
       "      <th>Age</th>\n",
       "      <td>0.000000e+00</td>\n",
       "    </tr>\n",
       "    <tr>\n",
       "      <th>Baggage handling</th>\n",
       "      <td>0.000000e+00</td>\n",
       "    </tr>\n",
       "    <tr>\n",
       "      <th>Checkin service</th>\n",
       "      <td>NaN</td>\n",
       "    </tr>\n",
       "    <tr>\n",
       "      <th>Class</th>\n",
       "      <td>0.000000e+00</td>\n",
       "    </tr>\n",
       "    <tr>\n",
       "      <th>Customer Type</th>\n",
       "      <td>0.000000e+00</td>\n",
       "    </tr>\n",
       "    <tr>\n",
       "      <th>Departure/Arrival time convenient</th>\n",
       "      <td>7.058184e-43</td>\n",
       "    </tr>\n",
       "    <tr>\n",
       "      <th>Ease of Online booking</th>\n",
       "      <td>NaN</td>\n",
       "    </tr>\n",
       "    <tr>\n",
       "      <th>Flight Distance</th>\n",
       "      <td>NaN</td>\n",
       "    </tr>\n",
       "    <tr>\n",
       "      <th>Food and drink</th>\n",
       "      <td>0.000000e+00</td>\n",
       "    </tr>\n",
       "    <tr>\n",
       "      <th>Gate location</th>\n",
       "      <td>NaN</td>\n",
       "    </tr>\n",
       "    <tr>\n",
       "      <th>Gender</th>\n",
       "      <td>0.000000e+00</td>\n",
       "    </tr>\n",
       "    <tr>\n",
       "      <th>Inflight entertainment</th>\n",
       "      <td>0.000000e+00</td>\n",
       "    </tr>\n",
       "    <tr>\n",
       "      <th>Inflight wifi service</th>\n",
       "      <td>0.000000e+00</td>\n",
       "    </tr>\n",
       "    <tr>\n",
       "      <th>Leg room service</th>\n",
       "      <td>0.000000e+00</td>\n",
       "    </tr>\n",
       "    <tr>\n",
       "      <th>On-board service</th>\n",
       "      <td>NaN</td>\n",
       "    </tr>\n",
       "    <tr>\n",
       "      <th>Online support</th>\n",
       "      <td>NaN</td>\n",
       "    </tr>\n",
       "    <tr>\n",
       "      <th>Seat comfort</th>\n",
       "      <td>0.000000e+00</td>\n",
       "    </tr>\n",
       "    <tr>\n",
       "      <th>Type of Travel</th>\n",
       "      <td>0.000000e+00</td>\n",
       "    </tr>\n",
       "  </tbody>\n",
       "</table>\n",
       "</div>"
      ],
      "text/plain": [
       "                                        p-value\n",
       "Feature                                        \n",
       "Age                                0.000000e+00\n",
       "Baggage handling                   0.000000e+00\n",
       "Checkin service                             NaN\n",
       "Class                              0.000000e+00\n",
       "Customer Type                      0.000000e+00\n",
       "Departure/Arrival time convenient  7.058184e-43\n",
       "Ease of Online booking                      NaN\n",
       "Flight Distance                             NaN\n",
       "Food and drink                     0.000000e+00\n",
       "Gate location                               NaN\n",
       "Gender                             0.000000e+00\n",
       "Inflight entertainment             0.000000e+00\n",
       "Inflight wifi service              0.000000e+00\n",
       "Leg room service                   0.000000e+00\n",
       "On-board service                            NaN\n",
       "Online support                              NaN\n",
       "Seat comfort                       0.000000e+00\n",
       "Type of Travel                     0.000000e+00"
      ]
     },
     "execution_count": 20,
     "metadata": {},
     "output_type": "execute_result"
    }
   ],
   "source": [
    "features = ['Gender', 'Customer Type','Type of Travel','Class','Age', 'Flight Distance', 'Seat comfort', 'Departure/Arrival time convenient',\n",
    "                               'Food and drink','Gate location', 'Inflight wifi service', 'Inflight entertainment', \n",
    "                               'Online support', 'Ease of Online booking', 'On-board service', 'Leg room service', \n",
    "                               'Baggage handling', 'Checkin service']\n",
    "\n",
    "p_values = {}\n",
    "\n",
    "# Iterate over each feature and perform a chi-squared test of independence\n",
    "for feature in features:\n",
    "    df_pivot = df[['Satisfaction', feature]].pivot_table(index='Satisfaction', columns=feature, aggfunc=len)\n",
    "    st_chi2, st_p, st_dof, st_exp = chi2_contingency(df_pivot)\n",
    "    p_values[feature] = st_p\n",
    "\n",
    "p_values_df = pd.DataFrame({'p-value': p_values})\n",
    "p_values_df.index.name = 'Feature'\n",
    "p_values_df"
   ]
  },
  {
   "cell_type": "code",
   "execution_count": 23,
   "metadata": {},
   "outputs": [
    {
     "data": {
      "application/vnd.plotly.v1+json": {
       "config": {
        "plotlyServerURL": "https://plot.ly"
       },
       "data": [
        {
         "alignmentgroup": "True",
         "hovertemplate": "Feature=%{x}<br>p-value=%{y}<extra></extra>",
         "legendgroup": "",
         "marker": {
          "color": "#636efa",
          "pattern": {
           "shape": ""
          }
         },
         "name": "",
         "offsetgroup": "",
         "orientation": "v",
         "showlegend": false,
         "textposition": "auto",
         "type": "bar",
         "x": [
          "Age",
          "Baggage handling",
          "Checkin service",
          "Class",
          "Customer Type",
          "Departure/Arrival time convenient",
          "Ease of Online booking",
          "Flight Distance",
          "Food and drink",
          "Gate location",
          "Gender",
          "Inflight entertainment",
          "Inflight wifi service",
          "Leg room service",
          "On-board service",
          "Online support",
          "Seat comfort",
          "Type of Travel"
         ],
         "xaxis": "x",
         "y": [
          0,
          0,
          null,
          0,
          0,
          7.05818383045264e-43,
          null,
          null,
          0,
          null,
          0,
          0,
          0,
          0,
          null,
          null,
          0,
          0
         ],
         "yaxis": "y"
        }
       ],
       "layout": {
        "barmode": "relative",
        "legend": {
         "tracegroupgap": 0
        },
        "template": {
         "data": {
          "bar": [
           {
            "error_x": {
             "color": "#2a3f5f"
            },
            "error_y": {
             "color": "#2a3f5f"
            },
            "marker": {
             "line": {
              "color": "#E5ECF6",
              "width": 0.5
             },
             "pattern": {
              "fillmode": "overlay",
              "size": 10,
              "solidity": 0.2
             }
            },
            "type": "bar"
           }
          ],
          "barpolar": [
           {
            "marker": {
             "line": {
              "color": "#E5ECF6",
              "width": 0.5
             },
             "pattern": {
              "fillmode": "overlay",
              "size": 10,
              "solidity": 0.2
             }
            },
            "type": "barpolar"
           }
          ],
          "carpet": [
           {
            "aaxis": {
             "endlinecolor": "#2a3f5f",
             "gridcolor": "white",
             "linecolor": "white",
             "minorgridcolor": "white",
             "startlinecolor": "#2a3f5f"
            },
            "baxis": {
             "endlinecolor": "#2a3f5f",
             "gridcolor": "white",
             "linecolor": "white",
             "minorgridcolor": "white",
             "startlinecolor": "#2a3f5f"
            },
            "type": "carpet"
           }
          ],
          "choropleth": [
           {
            "colorbar": {
             "outlinewidth": 0,
             "ticks": ""
            },
            "type": "choropleth"
           }
          ],
          "contour": [
           {
            "colorbar": {
             "outlinewidth": 0,
             "ticks": ""
            },
            "colorscale": [
             [
              0,
              "#0d0887"
             ],
             [
              0.1111111111111111,
              "#46039f"
             ],
             [
              0.2222222222222222,
              "#7201a8"
             ],
             [
              0.3333333333333333,
              "#9c179e"
             ],
             [
              0.4444444444444444,
              "#bd3786"
             ],
             [
              0.5555555555555556,
              "#d8576b"
             ],
             [
              0.6666666666666666,
              "#ed7953"
             ],
             [
              0.7777777777777778,
              "#fb9f3a"
             ],
             [
              0.8888888888888888,
              "#fdca26"
             ],
             [
              1,
              "#f0f921"
             ]
            ],
            "type": "contour"
           }
          ],
          "contourcarpet": [
           {
            "colorbar": {
             "outlinewidth": 0,
             "ticks": ""
            },
            "type": "contourcarpet"
           }
          ],
          "heatmap": [
           {
            "colorbar": {
             "outlinewidth": 0,
             "ticks": ""
            },
            "colorscale": [
             [
              0,
              "#0d0887"
             ],
             [
              0.1111111111111111,
              "#46039f"
             ],
             [
              0.2222222222222222,
              "#7201a8"
             ],
             [
              0.3333333333333333,
              "#9c179e"
             ],
             [
              0.4444444444444444,
              "#bd3786"
             ],
             [
              0.5555555555555556,
              "#d8576b"
             ],
             [
              0.6666666666666666,
              "#ed7953"
             ],
             [
              0.7777777777777778,
              "#fb9f3a"
             ],
             [
              0.8888888888888888,
              "#fdca26"
             ],
             [
              1,
              "#f0f921"
             ]
            ],
            "type": "heatmap"
           }
          ],
          "heatmapgl": [
           {
            "colorbar": {
             "outlinewidth": 0,
             "ticks": ""
            },
            "colorscale": [
             [
              0,
              "#0d0887"
             ],
             [
              0.1111111111111111,
              "#46039f"
             ],
             [
              0.2222222222222222,
              "#7201a8"
             ],
             [
              0.3333333333333333,
              "#9c179e"
             ],
             [
              0.4444444444444444,
              "#bd3786"
             ],
             [
              0.5555555555555556,
              "#d8576b"
             ],
             [
              0.6666666666666666,
              "#ed7953"
             ],
             [
              0.7777777777777778,
              "#fb9f3a"
             ],
             [
              0.8888888888888888,
              "#fdca26"
             ],
             [
              1,
              "#f0f921"
             ]
            ],
            "type": "heatmapgl"
           }
          ],
          "histogram": [
           {
            "marker": {
             "pattern": {
              "fillmode": "overlay",
              "size": 10,
              "solidity": 0.2
             }
            },
            "type": "histogram"
           }
          ],
          "histogram2d": [
           {
            "colorbar": {
             "outlinewidth": 0,
             "ticks": ""
            },
            "colorscale": [
             [
              0,
              "#0d0887"
             ],
             [
              0.1111111111111111,
              "#46039f"
             ],
             [
              0.2222222222222222,
              "#7201a8"
             ],
             [
              0.3333333333333333,
              "#9c179e"
             ],
             [
              0.4444444444444444,
              "#bd3786"
             ],
             [
              0.5555555555555556,
              "#d8576b"
             ],
             [
              0.6666666666666666,
              "#ed7953"
             ],
             [
              0.7777777777777778,
              "#fb9f3a"
             ],
             [
              0.8888888888888888,
              "#fdca26"
             ],
             [
              1,
              "#f0f921"
             ]
            ],
            "type": "histogram2d"
           }
          ],
          "histogram2dcontour": [
           {
            "colorbar": {
             "outlinewidth": 0,
             "ticks": ""
            },
            "colorscale": [
             [
              0,
              "#0d0887"
             ],
             [
              0.1111111111111111,
              "#46039f"
             ],
             [
              0.2222222222222222,
              "#7201a8"
             ],
             [
              0.3333333333333333,
              "#9c179e"
             ],
             [
              0.4444444444444444,
              "#bd3786"
             ],
             [
              0.5555555555555556,
              "#d8576b"
             ],
             [
              0.6666666666666666,
              "#ed7953"
             ],
             [
              0.7777777777777778,
              "#fb9f3a"
             ],
             [
              0.8888888888888888,
              "#fdca26"
             ],
             [
              1,
              "#f0f921"
             ]
            ],
            "type": "histogram2dcontour"
           }
          ],
          "mesh3d": [
           {
            "colorbar": {
             "outlinewidth": 0,
             "ticks": ""
            },
            "type": "mesh3d"
           }
          ],
          "parcoords": [
           {
            "line": {
             "colorbar": {
              "outlinewidth": 0,
              "ticks": ""
             }
            },
            "type": "parcoords"
           }
          ],
          "pie": [
           {
            "automargin": true,
            "type": "pie"
           }
          ],
          "scatter": [
           {
            "fillpattern": {
             "fillmode": "overlay",
             "size": 10,
             "solidity": 0.2
            },
            "type": "scatter"
           }
          ],
          "scatter3d": [
           {
            "line": {
             "colorbar": {
              "outlinewidth": 0,
              "ticks": ""
             }
            },
            "marker": {
             "colorbar": {
              "outlinewidth": 0,
              "ticks": ""
             }
            },
            "type": "scatter3d"
           }
          ],
          "scattercarpet": [
           {
            "marker": {
             "colorbar": {
              "outlinewidth": 0,
              "ticks": ""
             }
            },
            "type": "scattercarpet"
           }
          ],
          "scattergeo": [
           {
            "marker": {
             "colorbar": {
              "outlinewidth": 0,
              "ticks": ""
             }
            },
            "type": "scattergeo"
           }
          ],
          "scattergl": [
           {
            "marker": {
             "colorbar": {
              "outlinewidth": 0,
              "ticks": ""
             }
            },
            "type": "scattergl"
           }
          ],
          "scattermapbox": [
           {
            "marker": {
             "colorbar": {
              "outlinewidth": 0,
              "ticks": ""
             }
            },
            "type": "scattermapbox"
           }
          ],
          "scatterpolar": [
           {
            "marker": {
             "colorbar": {
              "outlinewidth": 0,
              "ticks": ""
             }
            },
            "type": "scatterpolar"
           }
          ],
          "scatterpolargl": [
           {
            "marker": {
             "colorbar": {
              "outlinewidth": 0,
              "ticks": ""
             }
            },
            "type": "scatterpolargl"
           }
          ],
          "scatterternary": [
           {
            "marker": {
             "colorbar": {
              "outlinewidth": 0,
              "ticks": ""
             }
            },
            "type": "scatterternary"
           }
          ],
          "surface": [
           {
            "colorbar": {
             "outlinewidth": 0,
             "ticks": ""
            },
            "colorscale": [
             [
              0,
              "#0d0887"
             ],
             [
              0.1111111111111111,
              "#46039f"
             ],
             [
              0.2222222222222222,
              "#7201a8"
             ],
             [
              0.3333333333333333,
              "#9c179e"
             ],
             [
              0.4444444444444444,
              "#bd3786"
             ],
             [
              0.5555555555555556,
              "#d8576b"
             ],
             [
              0.6666666666666666,
              "#ed7953"
             ],
             [
              0.7777777777777778,
              "#fb9f3a"
             ],
             [
              0.8888888888888888,
              "#fdca26"
             ],
             [
              1,
              "#f0f921"
             ]
            ],
            "type": "surface"
           }
          ],
          "table": [
           {
            "cells": {
             "fill": {
              "color": "#EBF0F8"
             },
             "line": {
              "color": "white"
             }
            },
            "header": {
             "fill": {
              "color": "#C8D4E3"
             },
             "line": {
              "color": "white"
             }
            },
            "type": "table"
           }
          ]
         },
         "layout": {
          "annotationdefaults": {
           "arrowcolor": "#2a3f5f",
           "arrowhead": 0,
           "arrowwidth": 1
          },
          "autotypenumbers": "strict",
          "coloraxis": {
           "colorbar": {
            "outlinewidth": 0,
            "ticks": ""
           }
          },
          "colorscale": {
           "diverging": [
            [
             0,
             "#8e0152"
            ],
            [
             0.1,
             "#c51b7d"
            ],
            [
             0.2,
             "#de77ae"
            ],
            [
             0.3,
             "#f1b6da"
            ],
            [
             0.4,
             "#fde0ef"
            ],
            [
             0.5,
             "#f7f7f7"
            ],
            [
             0.6,
             "#e6f5d0"
            ],
            [
             0.7,
             "#b8e186"
            ],
            [
             0.8,
             "#7fbc41"
            ],
            [
             0.9,
             "#4d9221"
            ],
            [
             1,
             "#276419"
            ]
           ],
           "sequential": [
            [
             0,
             "#0d0887"
            ],
            [
             0.1111111111111111,
             "#46039f"
            ],
            [
             0.2222222222222222,
             "#7201a8"
            ],
            [
             0.3333333333333333,
             "#9c179e"
            ],
            [
             0.4444444444444444,
             "#bd3786"
            ],
            [
             0.5555555555555556,
             "#d8576b"
            ],
            [
             0.6666666666666666,
             "#ed7953"
            ],
            [
             0.7777777777777778,
             "#fb9f3a"
            ],
            [
             0.8888888888888888,
             "#fdca26"
            ],
            [
             1,
             "#f0f921"
            ]
           ],
           "sequentialminus": [
            [
             0,
             "#0d0887"
            ],
            [
             0.1111111111111111,
             "#46039f"
            ],
            [
             0.2222222222222222,
             "#7201a8"
            ],
            [
             0.3333333333333333,
             "#9c179e"
            ],
            [
             0.4444444444444444,
             "#bd3786"
            ],
            [
             0.5555555555555556,
             "#d8576b"
            ],
            [
             0.6666666666666666,
             "#ed7953"
            ],
            [
             0.7777777777777778,
             "#fb9f3a"
            ],
            [
             0.8888888888888888,
             "#fdca26"
            ],
            [
             1,
             "#f0f921"
            ]
           ]
          },
          "colorway": [
           "#636efa",
           "#EF553B",
           "#00cc96",
           "#ab63fa",
           "#FFA15A",
           "#19d3f3",
           "#FF6692",
           "#B6E880",
           "#FF97FF",
           "#FECB52"
          ],
          "font": {
           "color": "#2a3f5f"
          },
          "geo": {
           "bgcolor": "white",
           "lakecolor": "white",
           "landcolor": "#E5ECF6",
           "showlakes": true,
           "showland": true,
           "subunitcolor": "white"
          },
          "hoverlabel": {
           "align": "left"
          },
          "hovermode": "closest",
          "mapbox": {
           "style": "light"
          },
          "paper_bgcolor": "white",
          "plot_bgcolor": "#E5ECF6",
          "polar": {
           "angularaxis": {
            "gridcolor": "white",
            "linecolor": "white",
            "ticks": ""
           },
           "bgcolor": "#E5ECF6",
           "radialaxis": {
            "gridcolor": "white",
            "linecolor": "white",
            "ticks": ""
           }
          },
          "scene": {
           "xaxis": {
            "backgroundcolor": "#E5ECF6",
            "gridcolor": "white",
            "gridwidth": 2,
            "linecolor": "white",
            "showbackground": true,
            "ticks": "",
            "zerolinecolor": "white"
           },
           "yaxis": {
            "backgroundcolor": "#E5ECF6",
            "gridcolor": "white",
            "gridwidth": 2,
            "linecolor": "white",
            "showbackground": true,
            "ticks": "",
            "zerolinecolor": "white"
           },
           "zaxis": {
            "backgroundcolor": "#E5ECF6",
            "gridcolor": "white",
            "gridwidth": 2,
            "linecolor": "white",
            "showbackground": true,
            "ticks": "",
            "zerolinecolor": "white"
           }
          },
          "shapedefaults": {
           "line": {
            "color": "#2a3f5f"
           }
          },
          "ternary": {
           "aaxis": {
            "gridcolor": "white",
            "linecolor": "white",
            "ticks": ""
           },
           "baxis": {
            "gridcolor": "white",
            "linecolor": "white",
            "ticks": ""
           },
           "bgcolor": "#E5ECF6",
           "caxis": {
            "gridcolor": "white",
            "linecolor": "white",
            "ticks": ""
           }
          },
          "title": {
           "x": 0.05
          },
          "xaxis": {
           "automargin": true,
           "gridcolor": "white",
           "linecolor": "white",
           "ticks": "",
           "title": {
            "standoff": 15
           },
           "zerolinecolor": "white",
           "zerolinewidth": 2
          },
          "yaxis": {
           "automargin": true,
           "gridcolor": "white",
           "linecolor": "white",
           "ticks": "",
           "title": {
            "standoff": 15
           },
           "zerolinecolor": "white",
           "zerolinewidth": 2
          }
         }
        },
        "title": {
         "text": "P-values for Satisfaction by Feature"
        },
        "xaxis": {
         "anchor": "y",
         "domain": [
          0,
          1
         ],
         "title": {
          "text": "Feature"
         }
        },
        "yaxis": {
         "anchor": "x",
         "domain": [
          0,
          1
         ],
         "tickformat": ".3f",
         "title": {
          "text": "P-value"
         }
        }
       }
      }
     },
     "metadata": {},
     "output_type": "display_data"
    }
   ],
   "source": [
    "fig = px.bar(p_values_df.reset_index(), x='Feature', y='p-value', title='P-values for Satisfaction by Feature')\n",
    "\n",
    "fig.update_layout(xaxis_title='Feature', yaxis_title='P-value', yaxis_tickformat='.3f')\n",
    "\n",
    "fig.show()\n"
   ]
  },
  {
   "attachments": {},
   "cell_type": "markdown",
   "metadata": {},
   "source": [
    "#### This result is a bit weird, which means all the features are significantly influence the \"Satisfaction\""
   ]
  },
  {
   "cell_type": "markdown",
   "metadata": {},
   "source": []
  },
  {
   "cell_type": "code",
   "execution_count": 13,
   "metadata": {},
   "outputs": [
    {
     "data": {
      "text/plain": [
       "dict_keys(['Loyal Customer', 'disloyal Customer'])"
      ]
     },
     "execution_count": 13,
     "metadata": {},
     "output_type": "execute_result"
    }
   ],
   "source": [
    "df.groupby('Class').groups.keys()\n",
    "df.groupby('Customer Type').groups.keys()"
   ]
  },
  {
   "attachments": {},
   "cell_type": "markdown",
   "metadata": {},
   "source": [
    "## The proportion of different types for \"Gender, Customer Type, Type of Travel, Class, Satisfaction\""
   ]
  },
  {
   "cell_type": "code",
   "execution_count": 14,
   "metadata": {},
   "outputs": [
    {
     "data": {
      "image/png": "[encoded data removed]",
      "text/plain": [
       "<Figure size 2000x800 with 5 Axes>"
      ]
     },
     "metadata": {},
     "output_type": "display_data"
    }
   ],
   "source": [
    "cols = ['Gender', 'Customer Type', 'Type of Travel', 'Class', 'Satisfaction']\n",
    "\n",
    "# Create subplots for each column\n",
    "fig, axs = plt.subplots(1, len(cols), figsize=(20, 8))\n",
    "\n",
    "for i, col in enumerate(cols):\n",
    "    \n",
    "    # Get value counts for column\n",
    "    df_counts = df[col].value_counts()\n",
    "\n",
    "    axs[i].pie(df_counts, labels=df_counts.index, autopct='%1.1f%%')\n",
    "    axs[i].set_title(col)\n",
    "\n",
    "plt.show()\n"
   ]
  },
  {
   "cell_type": "code",
   "execution_count": 29,
   "metadata": {},
   "outputs": [
    {
     "data": {
      "text/plain": [
       "Text(0, 0.5, 'Arrival Delay in Minutes')"
      ]
     },
     "execution_count": 29,
     "metadata": {},
     "output_type": "execute_result"
    },
    {
     "data": {
      "image/png": "[encoded data removed]",
      "text/plain": [
       "<Figure size 640x480 with 1 Axes>"
      ]
     },
     "metadata": {},
     "output_type": "display_data"
    }
   ],
   "source": [
    "plt.scatter(df['Flight Distance'], df['Arrival Delay in Minutes'])\n",
    "plt.xlabel('Flight Distance')\n",
    "plt.ylabel('Arrival Delay in Minutes')"
   ]
  },
  {
   "cell_type": "code",
   "execution_count": null,
   "metadata": {},
   "outputs": [],
   "source": []
  },
  {
   "attachments": {},
   "cell_type": "markdown",
   "metadata": {},
   "source": [
    "### More quantitative data analysis are put into the Webapp ( Streamlit): https://fengfengz93-app-airline-index-emd4ck.streamlit.app/analysis_descriptive"
   ]
  },
  {
   "attachments": {},
   "cell_type": "markdown",
   "metadata": {},
   "source": [
    "## Correlation analysis to understand the relations between all the features"
   ]
  },
  {
   "cell_type": "code",
   "execution_count": 26,
   "metadata": {},
   "outputs": [
    {
     "data": {
      "image/png": "[encoded data removed]",
      "text/plain": [
       "<Figure size 1000x800 with 2 Axes>"
      ]
     },
     "metadata": {},
     "output_type": "display_data"
    }
   ],
   "source": [
    "# Correlation between all the features\n",
    "\n",
    "# Encode the qualitative variables into numerical values using one-hot encoding\n",
    "df_encoded = pd.get_dummies(df, columns=[\"Satisfaction\", 'Gender', 'Customer Type', 'Type of Travel', 'Class'])\n",
    "\n",
    "quant_vars = ['Age', 'Flight Distance', 'Seat comfort',\n",
    "       'Departure/Arrival time convenient', 'Food and drink', 'Gate location',\n",
    "       'Inflight wifi service', 'Inflight entertainment', 'Online support',\n",
    "       'Ease of Online booking', 'On-board service', 'Leg room service',\n",
    "       'Baggage handling', 'Checkin service', 'Cleanliness', 'Departure Delay in Minutes', \n",
    "       'Arrival Delay in Minutes']\n",
    "\n",
    "# Calculate the correlation matrix using Pearson correlation\n",
    "corr_matrix = df_encoded[quant_vars + list(df_encoded.filter(regex='Satisfaction_|Gender_|Customer Type_|Type of Travel_|Class_'))].corr(method='pearson')\n",
    "\n",
    "\n",
    "plt.figure(figsize=(10, 8))\n",
    "\n",
    "sns.heatmap(corr_matrix, cmap='ocean')\n",
    "\n",
    "plt.show()"
   ]
  },
  {
   "attachments": {},
   "cell_type": "markdown",
   "metadata": {},
   "source": [
    "### Pre_Conclusions\n",
    "#### P-value calculation shows all the features have significant influence on \"Satisfaction\"\n",
    "#### Feature correlation result doesn't show certain ones have strong relation with \"Satisfaction\""
   ]
  }
 ],
 "metadata": {
  "kernelspec": {
   "display_name": "env_classification",
   "language": "python",
   "name": "python3"
  },
  "language_info": {
   "codemirror_mode": {
    "name": "ipython",
    "version": 3
   },
   "file_extension": ".py",
   "mimetype": "text/x-python",
   "name": "python",
   "nbconvert_exporter": "python",
   "pygments_lexer": "ipython3",
   "version": "3.10.6"
  },
  "orig_nbformat": 4
 },
 "nbformat": 4,
 "nbformat_minor": 2
}
